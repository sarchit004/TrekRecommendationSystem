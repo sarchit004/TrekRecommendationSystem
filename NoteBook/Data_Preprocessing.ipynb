{
 "cells": [
  {
   "cell_type": "code",
   "execution_count": 1,
   "id": "a3f8be18-66c7-4f92-b5c0-4972281b0e16",
   "metadata": {},
   "outputs": [],
   "source": [
    "import pandas as pd"
   ]
  },
  {
   "cell_type": "code",
   "execution_count": 2,
   "id": "f97d5c73-5a0b-4374-a281-c5b3cfc01359",
   "metadata": {},
   "outputs": [],
   "source": [
    "df= pd.read_csv('Nepali_Treking_Dataset.csv')"
   ]
  },
  {
   "cell_type": "code",
   "execution_count": 3,
   "id": "e99e802e-e30b-48e8-95ff-b0ffae332128",
   "metadata": {},
   "outputs": [
    {
     "data": {
      "text/html": [
       "<div>\n",
       "<style scoped>\n",
       "    .dataframe tbody tr th:only-of-type {\n",
       "        vertical-align: middle;\n",
       "    }\n",
       "\n",
       "    .dataframe tbody tr th {\n",
       "        vertical-align: top;\n",
       "    }\n",
       "\n",
       "    .dataframe thead th {\n",
       "        text-align: right;\n",
       "    }\n",
       "</style>\n",
       "<table border=\"1\" class=\"dataframe\">\n",
       "  <thead>\n",
       "    <tr style=\"text-align: right;\">\n",
       "      <th></th>\n",
       "      <th>Unnamed: 0</th>\n",
       "      <th>Trek</th>\n",
       "      <th>Cost</th>\n",
       "      <th>Time</th>\n",
       "      <th>Trip Grade</th>\n",
       "      <th>Max Altitude</th>\n",
       "      <th>Accomodation</th>\n",
       "      <th>Best Travel Time</th>\n",
       "      <th>Date of Travel</th>\n",
       "      <th>Sex</th>\n",
       "      <th>...</th>\n",
       "      <th>Regional code</th>\n",
       "      <th>Country</th>\n",
       "      <th>Fitness Level</th>\n",
       "      <th>Weather Conditions</th>\n",
       "      <th>Trekking Group Size</th>\n",
       "      <th>Guide/No Guide</th>\n",
       "      <th>Equipment Used</th>\n",
       "      <th>Purpose of Travel</th>\n",
       "      <th>Health Incidents</th>\n",
       "      <th>Review/Satisfaction</th>\n",
       "    </tr>\n",
       "  </thead>\n",
       "  <tbody>\n",
       "    <tr>\n",
       "      <th>0</th>\n",
       "      <td>0</td>\n",
       "      <td>Everest Base Camp Trek</td>\n",
       "      <td>\\n$1,420     USD</td>\n",
       "      <td>16 Days</td>\n",
       "      <td>Moderate</td>\n",
       "      <td>5545 m</td>\n",
       "      <td>Hotel/Guesthouse</td>\n",
       "      <td>March - May &amp; Sept - Dec</td>\n",
       "      <td>9/13/2022</td>\n",
       "      <td>Non-Binary</td>\n",
       "      <td>...</td>\n",
       "      <td>0</td>\n",
       "      <td>total</td>\n",
       "      <td>Intermediate</td>\n",
       "      <td>Clear</td>\n",
       "      <td>10.0</td>\n",
       "      <td>Guide</td>\n",
       "      <td>Poles</td>\n",
       "      <td>Leisure</td>\n",
       "      <td>NaN</td>\n",
       "      <td>4.5</td>\n",
       "    </tr>\n",
       "    <tr>\n",
       "      <th>1</th>\n",
       "      <td>1</td>\n",
       "      <td>Everest Base Camp Short Trek</td>\n",
       "      <td>\\n$1,295     USD</td>\n",
       "      <td>14 Days</td>\n",
       "      <td>Moderate</td>\n",
       "      <td>5545 m</td>\n",
       "      <td>Hotel/Guesthouse</td>\n",
       "      <td>March - May &amp; Sept - Dec</td>\n",
       "      <td>9/4/2021</td>\n",
       "      <td>Female</td>\n",
       "      <td>...</td>\n",
       "      <td>40</td>\n",
       "      <td>Afghanistan</td>\n",
       "      <td>NaN</td>\n",
       "      <td>NaN</td>\n",
       "      <td>NaN</td>\n",
       "      <td>NaN</td>\n",
       "      <td>NaN</td>\n",
       "      <td>NaN</td>\n",
       "      <td>NaN</td>\n",
       "      <td>NaN</td>\n",
       "    </tr>\n",
       "    <tr>\n",
       "      <th>2</th>\n",
       "      <td>2</td>\n",
       "      <td>Everest Base Camp Heli Shuttle Trek</td>\n",
       "      <td>\\n$2000 USD</td>\n",
       "      <td>12 Days</td>\n",
       "      <td>Moderate</td>\n",
       "      <td>5545 m</td>\n",
       "      <td>Hotel/Guesthouse</td>\n",
       "      <td>March - May &amp; Sept - Dec</td>\n",
       "      <td>1/25/2021</td>\n",
       "      <td>Female</td>\n",
       "      <td>...</td>\n",
       "      <td>80</td>\n",
       "      <td>Albania</td>\n",
       "      <td>Advanced</td>\n",
       "      <td>Snowy</td>\n",
       "      <td>12.0</td>\n",
       "      <td>Guide</td>\n",
       "      <td>Oxygen</td>\n",
       "      <td>Charity</td>\n",
       "      <td>NaN</td>\n",
       "      <td>5.0</td>\n",
       "    </tr>\n",
       "    <tr>\n",
       "      <th>3</th>\n",
       "      <td>3</td>\n",
       "      <td>Everest Base Camp Heli Trek</td>\n",
       "      <td>\\n$3,300     USD</td>\n",
       "      <td>11 Days</td>\n",
       "      <td>Moderate</td>\n",
       "      <td>5545 m</td>\n",
       "      <td>Hotel/Guesthouse</td>\n",
       "      <td>March - May &amp; Sept - Dec</td>\n",
       "      <td>1/28/2022</td>\n",
       "      <td>Non-Binary</td>\n",
       "      <td>...</td>\n",
       "      <td>120</td>\n",
       "      <td>Algeria</td>\n",
       "      <td>Intermediate</td>\n",
       "      <td>Clear</td>\n",
       "      <td>5.0</td>\n",
       "      <td>Guide</td>\n",
       "      <td>Poles</td>\n",
       "      <td>Leisure</td>\n",
       "      <td>NaN</td>\n",
       "      <td>4.0</td>\n",
       "    </tr>\n",
       "    <tr>\n",
       "      <th>4</th>\n",
       "      <td>4</td>\n",
       "      <td>Everest Base Camp Trek for Seniors</td>\n",
       "      <td>\\n$1,800     USD</td>\n",
       "      <td>20 Days</td>\n",
       "      <td>Moderate</td>\n",
       "      <td>5545 m</td>\n",
       "      <td>Hotel/Guesthouse</td>\n",
       "      <td>March - May &amp; Sept - Dec</td>\n",
       "      <td>10/21/2021</td>\n",
       "      <td>Non-Binary</td>\n",
       "      <td>...</td>\n",
       "      <td>200</td>\n",
       "      <td>Andra</td>\n",
       "      <td>Beginner</td>\n",
       "      <td>Cloudy</td>\n",
       "      <td>6.0</td>\n",
       "      <td>No Guide</td>\n",
       "      <td>NaN</td>\n",
       "      <td>Adventure</td>\n",
       "      <td>Minor Injury</td>\n",
       "      <td>3.5</td>\n",
       "    </tr>\n",
       "  </tbody>\n",
       "</table>\n",
       "<p>5 rows × 26 columns</p>\n",
       "</div>"
      ],
      "text/plain": [
       "   Unnamed: 0                                 Trek              Cost  \\\n",
       "0           0               Everest Base Camp Trek  \\n$1,420     USD   \n",
       "1           1         Everest Base Camp Short Trek  \\n$1,295     USD   \n",
       "2           2  Everest Base Camp Heli Shuttle Trek       \\n$2000 USD   \n",
       "3           3          Everest Base Camp Heli Trek  \\n$3,300     USD   \n",
       "4           4   Everest Base Camp Trek for Seniors  \\n$1,800     USD   \n",
       "\n",
       "       Time Trip Grade Max Altitude      Accomodation  \\\n",
       "0   16 Days   Moderate       5545 m  Hotel/Guesthouse   \n",
       "1   14 Days   Moderate       5545 m  Hotel/Guesthouse   \n",
       "2   12 Days   Moderate       5545 m  Hotel/Guesthouse   \n",
       "3   11 Days   Moderate       5545 m  Hotel/Guesthouse   \n",
       "4   20 Days   Moderate       5545 m  Hotel/Guesthouse   \n",
       "\n",
       "           Best Travel Time Date of Travel         Sex  ...  Regional code  \\\n",
       "0  March - May & Sept - Dec      9/13/2022  Non-Binary  ...              0   \n",
       "1  March - May & Sept - Dec       9/4/2021      Female  ...             40   \n",
       "2  March - May & Sept - Dec      1/25/2021      Female  ...             80   \n",
       "3  March - May & Sept - Dec      1/28/2022  Non-Binary  ...            120   \n",
       "4  March - May & Sept - Dec     10/21/2021  Non-Binary  ...            200   \n",
       "\n",
       "       Country Fitness Level  Weather Conditions Trekking Group Size  \\\n",
       "0        total  Intermediate               Clear                10.0   \n",
       "1  Afghanistan           NaN                 NaN                 NaN   \n",
       "2      Albania      Advanced               Snowy                12.0   \n",
       "3      Algeria  Intermediate               Clear                 5.0   \n",
       "4        Andra      Beginner              Cloudy                 6.0   \n",
       "\n",
       "   Guide/No Guide  Equipment Used Purpose of Travel Health Incidents  \\\n",
       "0           Guide           Poles           Leisure              NaN   \n",
       "1             NaN             NaN               NaN              NaN   \n",
       "2           Guide          Oxygen           Charity              NaN   \n",
       "3           Guide           Poles           Leisure              NaN   \n",
       "4        No Guide             NaN         Adventure     Minor Injury   \n",
       "\n",
       "  Review/Satisfaction  \n",
       "0                 4.5  \n",
       "1                 NaN  \n",
       "2                 5.0  \n",
       "3                 4.0  \n",
       "4                 3.5  \n",
       "\n",
       "[5 rows x 26 columns]"
      ]
     },
     "execution_count": 3,
     "metadata": {},
     "output_type": "execute_result"
    }
   ],
   "source": [
    "df.head()"
   ]
  },
  {
   "cell_type": "code",
   "execution_count": 4,
   "id": "1ebc0e7e-f865-4aaa-8862-51aae94af99a",
   "metadata": {},
   "outputs": [
    {
     "data": {
      "text/plain": [
       "Index(['Unnamed: 0', 'Trek', 'Cost', 'Time', 'Trip Grade', 'Max Altitude',\n",
       "       'Accomodation', 'Best Travel Time', 'Date of Travel', 'Sex', 'Age',\n",
       "       'Employment Type', 'GraduateOrNot', 'AnnualIncome', 'FrequentFlyer',\n",
       "       'Year', 'Regional code', 'Country', 'Fitness Level',\n",
       "       'Weather Conditions', 'Trekking Group Size', 'Guide/No Guide',\n",
       "       'Equipment Used', 'Purpose of Travel', 'Health Incidents',\n",
       "       'Review/Satisfaction'],\n",
       "      dtype='object')"
      ]
     },
     "execution_count": 4,
     "metadata": {},
     "output_type": "execute_result"
    }
   ],
   "source": [
    "df.columns"
   ]
  },
  {
   "cell_type": "code",
   "execution_count": 5,
   "id": "806ba6c8-d102-4e67-bece-33ea342eb4ce",
   "metadata": {},
   "outputs": [],
   "source": [
    "# removing un-necessary columns\n",
    "df = df.drop(['Unnamed: 0', 'GraduateOrNot', 'FrequentFlyer', 'Country', 'Regional code', 'Year'], axis=1)"
   ]
  },
  {
   "cell_type": "code",
   "execution_count": 6,
   "id": "ea427ee0-55dc-4684-8afe-6f2ebcb2c518",
   "metadata": {},
   "outputs": [
    {
     "data": {
      "text/plain": [
       "Index(['Trek', 'Cost', 'Time', 'Trip Grade', 'Max Altitude', 'Accomodation',\n",
       "       'Best Travel Time', 'Date of Travel', 'Sex', 'Age', 'Employment Type',\n",
       "       'AnnualIncome', 'Fitness Level', 'Weather Conditions',\n",
       "       'Trekking Group Size', 'Guide/No Guide', 'Equipment Used',\n",
       "       'Purpose of Travel', 'Health Incidents', 'Review/Satisfaction'],\n",
       "      dtype='object')"
      ]
     },
     "execution_count": 6,
     "metadata": {},
     "output_type": "execute_result"
    }
   ],
   "source": [
    "df.columns"
   ]
  },
  {
   "cell_type": "code",
   "execution_count": 7,
   "id": "248c4ef1-2a82-4f63-9c6f-ec48b88028c2",
   "metadata": {},
   "outputs": [
    {
     "data": {
      "text/plain": [
       "Trek                     0\n",
       "Cost                     0\n",
       "Time                     0\n",
       "Trip Grade               0\n",
       "Max Altitude             0\n",
       "Accomodation             0\n",
       "Best Travel Time         0\n",
       "Date of Travel           0\n",
       "Sex                      0\n",
       "Age                      0\n",
       "Employment Type          0\n",
       "AnnualIncome             0\n",
       "Fitness Level           38\n",
       "Weather Conditions      38\n",
       "Trekking Group Size     38\n",
       "Guide/No Guide          38\n",
       "Equipment Used         176\n",
       "Purpose of Travel       38\n",
       "Health Incidents       245\n",
       "Review/Satisfaction     38\n",
       "dtype: int64"
      ]
     },
     "execution_count": 7,
     "metadata": {},
     "output_type": "execute_result"
    }
   ],
   "source": [
    "df.isnull().sum()"
   ]
  },
  {
   "cell_type": "code",
   "execution_count": 8,
   "id": "5e74b26d-8ba5-4754-9cd2-26dbd8414416",
   "metadata": {},
   "outputs": [],
   "source": [
    "df['Trek']=df['Trek'].str.replace('Nepal Trekking and', '')"
   ]
  },
  {
   "cell_type": "code",
   "execution_count": 9,
   "id": "f93aabe1-c74e-4730-9d83-a4af864a349a",
   "metadata": {},
   "outputs": [],
   "source": [
    "df['Trek_cleaned'] = df['Trek'].str.strip().str.lower().str.split('trek').str[0].str.title()+ 'Trek'"
   ]
  },
  {
   "cell_type": "code",
   "execution_count": 10,
   "id": "ca97f42d-69fa-4564-8180-c4c96be217c3",
   "metadata": {},
   "outputs": [
    {
     "data": {
      "text/html": [
       "<div>\n",
       "<style scoped>\n",
       "    .dataframe tbody tr th:only-of-type {\n",
       "        vertical-align: middle;\n",
       "    }\n",
       "\n",
       "    .dataframe tbody tr th {\n",
       "        vertical-align: top;\n",
       "    }\n",
       "\n",
       "    .dataframe thead th {\n",
       "        text-align: right;\n",
       "    }\n",
       "</style>\n",
       "<table border=\"1\" class=\"dataframe\">\n",
       "  <thead>\n",
       "    <tr style=\"text-align: right;\">\n",
       "      <th></th>\n",
       "      <th>Trek</th>\n",
       "      <th>Cost</th>\n",
       "      <th>Time</th>\n",
       "      <th>Trip Grade</th>\n",
       "      <th>Max Altitude</th>\n",
       "      <th>Accomodation</th>\n",
       "      <th>Best Travel Time</th>\n",
       "      <th>Date of Travel</th>\n",
       "      <th>Sex</th>\n",
       "      <th>Age</th>\n",
       "      <th>...</th>\n",
       "      <th>AnnualIncome</th>\n",
       "      <th>Fitness Level</th>\n",
       "      <th>Weather Conditions</th>\n",
       "      <th>Trekking Group Size</th>\n",
       "      <th>Guide/No Guide</th>\n",
       "      <th>Equipment Used</th>\n",
       "      <th>Purpose of Travel</th>\n",
       "      <th>Health Incidents</th>\n",
       "      <th>Review/Satisfaction</th>\n",
       "      <th>Trek_cleaned</th>\n",
       "    </tr>\n",
       "  </thead>\n",
       "  <tbody>\n",
       "    <tr>\n",
       "      <th>0</th>\n",
       "      <td>Everest Base Camp Trek</td>\n",
       "      <td>\\n$1,420     USD</td>\n",
       "      <td>16 Days</td>\n",
       "      <td>Moderate</td>\n",
       "      <td>5545 m</td>\n",
       "      <td>Hotel/Guesthouse</td>\n",
       "      <td>March - May &amp; Sept - Dec</td>\n",
       "      <td>9/13/2022</td>\n",
       "      <td>Non-Binary</td>\n",
       "      <td>31</td>\n",
       "      <td>...</td>\n",
       "      <td>400000</td>\n",
       "      <td>Intermediate</td>\n",
       "      <td>Clear</td>\n",
       "      <td>10.0</td>\n",
       "      <td>Guide</td>\n",
       "      <td>Poles</td>\n",
       "      <td>Leisure</td>\n",
       "      <td>NaN</td>\n",
       "      <td>4.5</td>\n",
       "      <td>Everest Base Camp Trek</td>\n",
       "    </tr>\n",
       "    <tr>\n",
       "      <th>1</th>\n",
       "      <td>Everest Base Camp Short Trek</td>\n",
       "      <td>\\n$1,295     USD</td>\n",
       "      <td>14 Days</td>\n",
       "      <td>Moderate</td>\n",
       "      <td>5545 m</td>\n",
       "      <td>Hotel/Guesthouse</td>\n",
       "      <td>March - May &amp; Sept - Dec</td>\n",
       "      <td>9/4/2021</td>\n",
       "      <td>Female</td>\n",
       "      <td>31</td>\n",
       "      <td>...</td>\n",
       "      <td>1250000</td>\n",
       "      <td>NaN</td>\n",
       "      <td>NaN</td>\n",
       "      <td>NaN</td>\n",
       "      <td>NaN</td>\n",
       "      <td>NaN</td>\n",
       "      <td>NaN</td>\n",
       "      <td>NaN</td>\n",
       "      <td>NaN</td>\n",
       "      <td>Everest Base Camp Short Trek</td>\n",
       "    </tr>\n",
       "    <tr>\n",
       "      <th>2</th>\n",
       "      <td>Everest Base Camp Heli Shuttle Trek</td>\n",
       "      <td>\\n$2000 USD</td>\n",
       "      <td>12 Days</td>\n",
       "      <td>Moderate</td>\n",
       "      <td>5545 m</td>\n",
       "      <td>Hotel/Guesthouse</td>\n",
       "      <td>March - May &amp; Sept - Dec</td>\n",
       "      <td>1/25/2021</td>\n",
       "      <td>Female</td>\n",
       "      <td>34</td>\n",
       "      <td>...</td>\n",
       "      <td>500000</td>\n",
       "      <td>Advanced</td>\n",
       "      <td>Snowy</td>\n",
       "      <td>12.0</td>\n",
       "      <td>Guide</td>\n",
       "      <td>Oxygen</td>\n",
       "      <td>Charity</td>\n",
       "      <td>NaN</td>\n",
       "      <td>5.0</td>\n",
       "      <td>Everest Base Camp Heli Shuttle Trek</td>\n",
       "    </tr>\n",
       "    <tr>\n",
       "      <th>3</th>\n",
       "      <td>Everest Base Camp Heli Trek</td>\n",
       "      <td>\\n$3,300     USD</td>\n",
       "      <td>11 Days</td>\n",
       "      <td>Moderate</td>\n",
       "      <td>5545 m</td>\n",
       "      <td>Hotel/Guesthouse</td>\n",
       "      <td>March - May &amp; Sept - Dec</td>\n",
       "      <td>1/28/2022</td>\n",
       "      <td>Non-Binary</td>\n",
       "      <td>28</td>\n",
       "      <td>...</td>\n",
       "      <td>700000</td>\n",
       "      <td>Intermediate</td>\n",
       "      <td>Clear</td>\n",
       "      <td>5.0</td>\n",
       "      <td>Guide</td>\n",
       "      <td>Poles</td>\n",
       "      <td>Leisure</td>\n",
       "      <td>NaN</td>\n",
       "      <td>4.0</td>\n",
       "      <td>Everest Base Camp Heli Trek</td>\n",
       "    </tr>\n",
       "    <tr>\n",
       "      <th>4</th>\n",
       "      <td>Everest Base Camp Trek for Seniors</td>\n",
       "      <td>\\n$1,800     USD</td>\n",
       "      <td>20 Days</td>\n",
       "      <td>Moderate</td>\n",
       "      <td>5545 m</td>\n",
       "      <td>Hotel/Guesthouse</td>\n",
       "      <td>March - May &amp; Sept - Dec</td>\n",
       "      <td>10/21/2021</td>\n",
       "      <td>Non-Binary</td>\n",
       "      <td>28</td>\n",
       "      <td>...</td>\n",
       "      <td>700000</td>\n",
       "      <td>Beginner</td>\n",
       "      <td>Cloudy</td>\n",
       "      <td>6.0</td>\n",
       "      <td>No Guide</td>\n",
       "      <td>NaN</td>\n",
       "      <td>Adventure</td>\n",
       "      <td>Minor Injury</td>\n",
       "      <td>3.5</td>\n",
       "      <td>Everest Base Camp Trek</td>\n",
       "    </tr>\n",
       "  </tbody>\n",
       "</table>\n",
       "<p>5 rows × 21 columns</p>\n",
       "</div>"
      ],
      "text/plain": [
       "                                  Trek              Cost      Time Trip Grade  \\\n",
       "0               Everest Base Camp Trek  \\n$1,420     USD   16 Days   Moderate   \n",
       "1         Everest Base Camp Short Trek  \\n$1,295     USD   14 Days   Moderate   \n",
       "2  Everest Base Camp Heli Shuttle Trek       \\n$2000 USD   12 Days   Moderate   \n",
       "3          Everest Base Camp Heli Trek  \\n$3,300     USD   11 Days   Moderate   \n",
       "4   Everest Base Camp Trek for Seniors  \\n$1,800     USD   20 Days   Moderate   \n",
       "\n",
       "  Max Altitude      Accomodation          Best Travel Time Date of Travel  \\\n",
       "0       5545 m  Hotel/Guesthouse  March - May & Sept - Dec      9/13/2022   \n",
       "1       5545 m  Hotel/Guesthouse  March - May & Sept - Dec       9/4/2021   \n",
       "2       5545 m  Hotel/Guesthouse  March - May & Sept - Dec      1/25/2021   \n",
       "3       5545 m  Hotel/Guesthouse  March - May & Sept - Dec      1/28/2022   \n",
       "4       5545 m  Hotel/Guesthouse  March - May & Sept - Dec     10/21/2021   \n",
       "\n",
       "          Sex  Age  ... AnnualIncome  Fitness Level Weather Conditions  \\\n",
       "0  Non-Binary   31  ...       400000   Intermediate              Clear   \n",
       "1      Female   31  ...      1250000            NaN                NaN   \n",
       "2      Female   34  ...       500000       Advanced              Snowy   \n",
       "3  Non-Binary   28  ...       700000   Intermediate              Clear   \n",
       "4  Non-Binary   28  ...       700000       Beginner             Cloudy   \n",
       "\n",
       "  Trekking Group Size  Guide/No Guide Equipment Used Purpose of Travel  \\\n",
       "0                10.0           Guide          Poles           Leisure   \n",
       "1                 NaN             NaN            NaN               NaN   \n",
       "2                12.0           Guide         Oxygen           Charity   \n",
       "3                 5.0           Guide          Poles           Leisure   \n",
       "4                 6.0        No Guide            NaN         Adventure   \n",
       "\n",
       "  Health Incidents Review/Satisfaction                         Trek_cleaned  \n",
       "0              NaN                 4.5               Everest Base Camp Trek  \n",
       "1              NaN                 NaN         Everest Base Camp Short Trek  \n",
       "2              NaN                 5.0  Everest Base Camp Heli Shuttle Trek  \n",
       "3              NaN                 4.0          Everest Base Camp Heli Trek  \n",
       "4     Minor Injury                 3.5               Everest Base Camp Trek  \n",
       "\n",
       "[5 rows x 21 columns]"
      ]
     },
     "execution_count": 10,
     "metadata": {},
     "output_type": "execute_result"
    }
   ],
   "source": [
    "df.head()"
   ]
  },
  {
   "cell_type": "code",
   "execution_count": 11,
   "id": "6ca8a0da-b0ca-4315-b567-d6298c442701",
   "metadata": {},
   "outputs": [],
   "source": [
    "df['Cost_cleaned']= df['Cost'].str.strip().replace({'USD':'',',':''}, regex= True)\n",
    "df['Cost_cleaned']= df['Cost_cleaned'].str.replace('$', '', regex=False)"
   ]
  },
  {
   "cell_type": "code",
   "execution_count": 12,
   "id": "d7253993-c4ce-40ab-b429-8095baef4351",
   "metadata": {},
   "outputs": [
    {
     "data": {
      "text/html": [
       "<div>\n",
       "<style scoped>\n",
       "    .dataframe tbody tr th:only-of-type {\n",
       "        vertical-align: middle;\n",
       "    }\n",
       "\n",
       "    .dataframe tbody tr th {\n",
       "        vertical-align: top;\n",
       "    }\n",
       "\n",
       "    .dataframe thead th {\n",
       "        text-align: right;\n",
       "    }\n",
       "</style>\n",
       "<table border=\"1\" class=\"dataframe\">\n",
       "  <thead>\n",
       "    <tr style=\"text-align: right;\">\n",
       "      <th></th>\n",
       "      <th>Trek</th>\n",
       "      <th>Cost</th>\n",
       "      <th>Time</th>\n",
       "      <th>Trip Grade</th>\n",
       "      <th>Max Altitude</th>\n",
       "      <th>Accomodation</th>\n",
       "      <th>Best Travel Time</th>\n",
       "      <th>Date of Travel</th>\n",
       "      <th>Sex</th>\n",
       "      <th>Age</th>\n",
       "      <th>...</th>\n",
       "      <th>Fitness Level</th>\n",
       "      <th>Weather Conditions</th>\n",
       "      <th>Trekking Group Size</th>\n",
       "      <th>Guide/No Guide</th>\n",
       "      <th>Equipment Used</th>\n",
       "      <th>Purpose of Travel</th>\n",
       "      <th>Health Incidents</th>\n",
       "      <th>Review/Satisfaction</th>\n",
       "      <th>Trek_cleaned</th>\n",
       "      <th>Cost_cleaned</th>\n",
       "    </tr>\n",
       "  </thead>\n",
       "  <tbody>\n",
       "    <tr>\n",
       "      <th>0</th>\n",
       "      <td>Everest Base Camp Trek</td>\n",
       "      <td>\\n$1,420     USD</td>\n",
       "      <td>16 Days</td>\n",
       "      <td>Moderate</td>\n",
       "      <td>5545 m</td>\n",
       "      <td>Hotel/Guesthouse</td>\n",
       "      <td>March - May &amp; Sept - Dec</td>\n",
       "      <td>9/13/2022</td>\n",
       "      <td>Non-Binary</td>\n",
       "      <td>31</td>\n",
       "      <td>...</td>\n",
       "      <td>Intermediate</td>\n",
       "      <td>Clear</td>\n",
       "      <td>10.0</td>\n",
       "      <td>Guide</td>\n",
       "      <td>Poles</td>\n",
       "      <td>Leisure</td>\n",
       "      <td>NaN</td>\n",
       "      <td>4.5</td>\n",
       "      <td>Everest Base Camp Trek</td>\n",
       "      <td>1420</td>\n",
       "    </tr>\n",
       "    <tr>\n",
       "      <th>1</th>\n",
       "      <td>Everest Base Camp Short Trek</td>\n",
       "      <td>\\n$1,295     USD</td>\n",
       "      <td>14 Days</td>\n",
       "      <td>Moderate</td>\n",
       "      <td>5545 m</td>\n",
       "      <td>Hotel/Guesthouse</td>\n",
       "      <td>March - May &amp; Sept - Dec</td>\n",
       "      <td>9/4/2021</td>\n",
       "      <td>Female</td>\n",
       "      <td>31</td>\n",
       "      <td>...</td>\n",
       "      <td>NaN</td>\n",
       "      <td>NaN</td>\n",
       "      <td>NaN</td>\n",
       "      <td>NaN</td>\n",
       "      <td>NaN</td>\n",
       "      <td>NaN</td>\n",
       "      <td>NaN</td>\n",
       "      <td>NaN</td>\n",
       "      <td>Everest Base Camp Short Trek</td>\n",
       "      <td>1295</td>\n",
       "    </tr>\n",
       "    <tr>\n",
       "      <th>2</th>\n",
       "      <td>Everest Base Camp Heli Shuttle Trek</td>\n",
       "      <td>\\n$2000 USD</td>\n",
       "      <td>12 Days</td>\n",
       "      <td>Moderate</td>\n",
       "      <td>5545 m</td>\n",
       "      <td>Hotel/Guesthouse</td>\n",
       "      <td>March - May &amp; Sept - Dec</td>\n",
       "      <td>1/25/2021</td>\n",
       "      <td>Female</td>\n",
       "      <td>34</td>\n",
       "      <td>...</td>\n",
       "      <td>Advanced</td>\n",
       "      <td>Snowy</td>\n",
       "      <td>12.0</td>\n",
       "      <td>Guide</td>\n",
       "      <td>Oxygen</td>\n",
       "      <td>Charity</td>\n",
       "      <td>NaN</td>\n",
       "      <td>5.0</td>\n",
       "      <td>Everest Base Camp Heli Shuttle Trek</td>\n",
       "      <td>2000</td>\n",
       "    </tr>\n",
       "    <tr>\n",
       "      <th>3</th>\n",
       "      <td>Everest Base Camp Heli Trek</td>\n",
       "      <td>\\n$3,300     USD</td>\n",
       "      <td>11 Days</td>\n",
       "      <td>Moderate</td>\n",
       "      <td>5545 m</td>\n",
       "      <td>Hotel/Guesthouse</td>\n",
       "      <td>March - May &amp; Sept - Dec</td>\n",
       "      <td>1/28/2022</td>\n",
       "      <td>Non-Binary</td>\n",
       "      <td>28</td>\n",
       "      <td>...</td>\n",
       "      <td>Intermediate</td>\n",
       "      <td>Clear</td>\n",
       "      <td>5.0</td>\n",
       "      <td>Guide</td>\n",
       "      <td>Poles</td>\n",
       "      <td>Leisure</td>\n",
       "      <td>NaN</td>\n",
       "      <td>4.0</td>\n",
       "      <td>Everest Base Camp Heli Trek</td>\n",
       "      <td>3300</td>\n",
       "    </tr>\n",
       "    <tr>\n",
       "      <th>4</th>\n",
       "      <td>Everest Base Camp Trek for Seniors</td>\n",
       "      <td>\\n$1,800     USD</td>\n",
       "      <td>20 Days</td>\n",
       "      <td>Moderate</td>\n",
       "      <td>5545 m</td>\n",
       "      <td>Hotel/Guesthouse</td>\n",
       "      <td>March - May &amp; Sept - Dec</td>\n",
       "      <td>10/21/2021</td>\n",
       "      <td>Non-Binary</td>\n",
       "      <td>28</td>\n",
       "      <td>...</td>\n",
       "      <td>Beginner</td>\n",
       "      <td>Cloudy</td>\n",
       "      <td>6.0</td>\n",
       "      <td>No Guide</td>\n",
       "      <td>NaN</td>\n",
       "      <td>Adventure</td>\n",
       "      <td>Minor Injury</td>\n",
       "      <td>3.5</td>\n",
       "      <td>Everest Base Camp Trek</td>\n",
       "      <td>1800</td>\n",
       "    </tr>\n",
       "  </tbody>\n",
       "</table>\n",
       "<p>5 rows × 22 columns</p>\n",
       "</div>"
      ],
      "text/plain": [
       "                                  Trek              Cost      Time Trip Grade  \\\n",
       "0               Everest Base Camp Trek  \\n$1,420     USD   16 Days   Moderate   \n",
       "1         Everest Base Camp Short Trek  \\n$1,295     USD   14 Days   Moderate   \n",
       "2  Everest Base Camp Heli Shuttle Trek       \\n$2000 USD   12 Days   Moderate   \n",
       "3          Everest Base Camp Heli Trek  \\n$3,300     USD   11 Days   Moderate   \n",
       "4   Everest Base Camp Trek for Seniors  \\n$1,800     USD   20 Days   Moderate   \n",
       "\n",
       "  Max Altitude      Accomodation          Best Travel Time Date of Travel  \\\n",
       "0       5545 m  Hotel/Guesthouse  March - May & Sept - Dec      9/13/2022   \n",
       "1       5545 m  Hotel/Guesthouse  March - May & Sept - Dec       9/4/2021   \n",
       "2       5545 m  Hotel/Guesthouse  March - May & Sept - Dec      1/25/2021   \n",
       "3       5545 m  Hotel/Guesthouse  March - May & Sept - Dec      1/28/2022   \n",
       "4       5545 m  Hotel/Guesthouse  March - May & Sept - Dec     10/21/2021   \n",
       "\n",
       "          Sex  Age  ... Fitness Level  Weather Conditions Trekking Group Size  \\\n",
       "0  Non-Binary   31  ...  Intermediate               Clear                10.0   \n",
       "1      Female   31  ...           NaN                 NaN                 NaN   \n",
       "2      Female   34  ...      Advanced               Snowy                12.0   \n",
       "3  Non-Binary   28  ...  Intermediate               Clear                 5.0   \n",
       "4  Non-Binary   28  ...      Beginner              Cloudy                 6.0   \n",
       "\n",
       "  Guide/No Guide  Equipment Used Purpose of Travel Health Incidents  \\\n",
       "0          Guide           Poles           Leisure              NaN   \n",
       "1            NaN             NaN               NaN              NaN   \n",
       "2          Guide          Oxygen           Charity              NaN   \n",
       "3          Guide           Poles           Leisure              NaN   \n",
       "4       No Guide             NaN         Adventure     Minor Injury   \n",
       "\n",
       "  Review/Satisfaction                         Trek_cleaned  Cost_cleaned  \n",
       "0                 4.5               Everest Base Camp Trek     1420       \n",
       "1                 NaN         Everest Base Camp Short Trek     1295       \n",
       "2                 5.0  Everest Base Camp Heli Shuttle Trek         2000   \n",
       "3                 4.0          Everest Base Camp Heli Trek     3300       \n",
       "4                 3.5               Everest Base Camp Trek     1800       \n",
       "\n",
       "[5 rows x 22 columns]"
      ]
     },
     "execution_count": 12,
     "metadata": {},
     "output_type": "execute_result"
    }
   ],
   "source": [
    "df.head()"
   ]
  },
  {
   "cell_type": "code",
   "execution_count": 13,
   "id": "28d5b43b-e160-4cf6-a440-afaf79d276d0",
   "metadata": {},
   "outputs": [
    {
     "data": {
      "text/plain": [
       "0      1420\n",
       "1      1295\n",
       "2      2000\n",
       "3      3300\n",
       "4      1800\n",
       "       ... \n",
       "378     450\n",
       "379    2100\n",
       "380     590\n",
       "381     690\n",
       "382    1190\n",
       "Name: Cost_cleaned, Length: 383, dtype: int64"
      ]
     },
     "execution_count": 13,
     "metadata": {},
     "output_type": "execute_result"
    }
   ],
   "source": [
    "# making the cost int\n",
    "df['Cost_cleaned'].astype(int)"
   ]
  },
  {
   "cell_type": "code",
   "execution_count": 14,
   "id": "b58c80f9-d1c1-4d04-88b0-c032b94d7fcb",
   "metadata": {},
   "outputs": [],
   "source": [
    "df['Cost_cleaned'] = pd.to_numeric(df['Cost_cleaned'], errors='coerce')"
   ]
  },
  {
   "cell_type": "code",
   "execution_count": 15,
   "id": "ed1c989f-d440-4e1e-89e8-afc79b6e4e48",
   "metadata": {},
   "outputs": [
    {
     "data": {
      "text/plain": [
       "dtype('int64')"
      ]
     },
     "execution_count": 15,
     "metadata": {},
     "output_type": "execute_result"
    }
   ],
   "source": [
    "# checking if its int \n",
    "df['Cost_cleaned'].dtype"
   ]
  },
  {
   "cell_type": "code",
   "execution_count": 16,
   "id": "5e87ac25-0804-4c95-9e8c-9bce2b021329",
   "metadata": {},
   "outputs": [
    {
     "data": {
      "text/plain": [
       "array([' 16 Days', ' 14 Days', ' 12 Days', ' 11 Days', ' 20 Days',\n",
       "       ' 19 Days', ' 22 Days', ' 7 Days', ' 10 Days', ' 9 Days',\n",
       "       ' 21 Days', ' 8 Days', ' 18 Days', ' 17 Days', ' 5 Days',\n",
       "       ' 15 Days', ' 18 days', ' 25 Days', ' 27 Days', ' 13 Days',\n",
       "       '16 Days', '15 Days', '10 Days', '19 Days', '13 Days', '9 Days',\n",
       "       '17 Days', '11 Days'], dtype=object)"
      ]
     },
     "execution_count": 16,
     "metadata": {},
     "output_type": "execute_result"
    }
   ],
   "source": [
    "df['Time'].unique()"
   ]
  },
  {
   "cell_type": "code",
   "execution_count": 17,
   "id": "809f324a-4729-43e3-944f-d8aafe603472",
   "metadata": {},
   "outputs": [
    {
     "data": {
      "text/html": [
       "<div>\n",
       "<style scoped>\n",
       "    .dataframe tbody tr th:only-of-type {\n",
       "        vertical-align: middle;\n",
       "    }\n",
       "\n",
       "    .dataframe tbody tr th {\n",
       "        vertical-align: top;\n",
       "    }\n",
       "\n",
       "    .dataframe thead th {\n",
       "        text-align: right;\n",
       "    }\n",
       "</style>\n",
       "<table border=\"1\" class=\"dataframe\">\n",
       "  <thead>\n",
       "    <tr style=\"text-align: right;\">\n",
       "      <th></th>\n",
       "      <th>Trek</th>\n",
       "      <th>Cost</th>\n",
       "      <th>Time</th>\n",
       "      <th>Trip Grade</th>\n",
       "      <th>Max Altitude</th>\n",
       "      <th>Accomodation</th>\n",
       "      <th>Best Travel Time</th>\n",
       "      <th>Date of Travel</th>\n",
       "      <th>Sex</th>\n",
       "      <th>Age</th>\n",
       "      <th>...</th>\n",
       "      <th>Weather Conditions</th>\n",
       "      <th>Trekking Group Size</th>\n",
       "      <th>Guide/No Guide</th>\n",
       "      <th>Equipment Used</th>\n",
       "      <th>Purpose of Travel</th>\n",
       "      <th>Health Incidents</th>\n",
       "      <th>Review/Satisfaction</th>\n",
       "      <th>Trek_cleaned</th>\n",
       "      <th>Cost_cleaned</th>\n",
       "      <th>Time_cleaned</th>\n",
       "    </tr>\n",
       "  </thead>\n",
       "  <tbody>\n",
       "    <tr>\n",
       "      <th>0</th>\n",
       "      <td>Everest Base Camp Trek</td>\n",
       "      <td>\\n$1,420     USD</td>\n",
       "      <td>16 Days</td>\n",
       "      <td>Moderate</td>\n",
       "      <td>5545 m</td>\n",
       "      <td>Hotel/Guesthouse</td>\n",
       "      <td>March - May &amp; Sept - Dec</td>\n",
       "      <td>9/13/2022</td>\n",
       "      <td>Non-Binary</td>\n",
       "      <td>31</td>\n",
       "      <td>...</td>\n",
       "      <td>Clear</td>\n",
       "      <td>10.0</td>\n",
       "      <td>Guide</td>\n",
       "      <td>Poles</td>\n",
       "      <td>Leisure</td>\n",
       "      <td>NaN</td>\n",
       "      <td>4.5</td>\n",
       "      <td>Everest Base Camp Trek</td>\n",
       "      <td>1420</td>\n",
       "      <td>16</td>\n",
       "    </tr>\n",
       "    <tr>\n",
       "      <th>1</th>\n",
       "      <td>Everest Base Camp Short Trek</td>\n",
       "      <td>\\n$1,295     USD</td>\n",
       "      <td>14 Days</td>\n",
       "      <td>Moderate</td>\n",
       "      <td>5545 m</td>\n",
       "      <td>Hotel/Guesthouse</td>\n",
       "      <td>March - May &amp; Sept - Dec</td>\n",
       "      <td>9/4/2021</td>\n",
       "      <td>Female</td>\n",
       "      <td>31</td>\n",
       "      <td>...</td>\n",
       "      <td>NaN</td>\n",
       "      <td>NaN</td>\n",
       "      <td>NaN</td>\n",
       "      <td>NaN</td>\n",
       "      <td>NaN</td>\n",
       "      <td>NaN</td>\n",
       "      <td>NaN</td>\n",
       "      <td>Everest Base Camp Short Trek</td>\n",
       "      <td>1295</td>\n",
       "      <td>14</td>\n",
       "    </tr>\n",
       "    <tr>\n",
       "      <th>2</th>\n",
       "      <td>Everest Base Camp Heli Shuttle Trek</td>\n",
       "      <td>\\n$2000 USD</td>\n",
       "      <td>12 Days</td>\n",
       "      <td>Moderate</td>\n",
       "      <td>5545 m</td>\n",
       "      <td>Hotel/Guesthouse</td>\n",
       "      <td>March - May &amp; Sept - Dec</td>\n",
       "      <td>1/25/2021</td>\n",
       "      <td>Female</td>\n",
       "      <td>34</td>\n",
       "      <td>...</td>\n",
       "      <td>Snowy</td>\n",
       "      <td>12.0</td>\n",
       "      <td>Guide</td>\n",
       "      <td>Oxygen</td>\n",
       "      <td>Charity</td>\n",
       "      <td>NaN</td>\n",
       "      <td>5.0</td>\n",
       "      <td>Everest Base Camp Heli Shuttle Trek</td>\n",
       "      <td>2000</td>\n",
       "      <td>12</td>\n",
       "    </tr>\n",
       "    <tr>\n",
       "      <th>3</th>\n",
       "      <td>Everest Base Camp Heli Trek</td>\n",
       "      <td>\\n$3,300     USD</td>\n",
       "      <td>11 Days</td>\n",
       "      <td>Moderate</td>\n",
       "      <td>5545 m</td>\n",
       "      <td>Hotel/Guesthouse</td>\n",
       "      <td>March - May &amp; Sept - Dec</td>\n",
       "      <td>1/28/2022</td>\n",
       "      <td>Non-Binary</td>\n",
       "      <td>28</td>\n",
       "      <td>...</td>\n",
       "      <td>Clear</td>\n",
       "      <td>5.0</td>\n",
       "      <td>Guide</td>\n",
       "      <td>Poles</td>\n",
       "      <td>Leisure</td>\n",
       "      <td>NaN</td>\n",
       "      <td>4.0</td>\n",
       "      <td>Everest Base Camp Heli Trek</td>\n",
       "      <td>3300</td>\n",
       "      <td>11</td>\n",
       "    </tr>\n",
       "    <tr>\n",
       "      <th>4</th>\n",
       "      <td>Everest Base Camp Trek for Seniors</td>\n",
       "      <td>\\n$1,800     USD</td>\n",
       "      <td>20 Days</td>\n",
       "      <td>Moderate</td>\n",
       "      <td>5545 m</td>\n",
       "      <td>Hotel/Guesthouse</td>\n",
       "      <td>March - May &amp; Sept - Dec</td>\n",
       "      <td>10/21/2021</td>\n",
       "      <td>Non-Binary</td>\n",
       "      <td>28</td>\n",
       "      <td>...</td>\n",
       "      <td>Cloudy</td>\n",
       "      <td>6.0</td>\n",
       "      <td>No Guide</td>\n",
       "      <td>NaN</td>\n",
       "      <td>Adventure</td>\n",
       "      <td>Minor Injury</td>\n",
       "      <td>3.5</td>\n",
       "      <td>Everest Base Camp Trek</td>\n",
       "      <td>1800</td>\n",
       "      <td>20</td>\n",
       "    </tr>\n",
       "  </tbody>\n",
       "</table>\n",
       "<p>5 rows × 23 columns</p>\n",
       "</div>"
      ],
      "text/plain": [
       "                                  Trek              Cost      Time Trip Grade  \\\n",
       "0               Everest Base Camp Trek  \\n$1,420     USD   16 Days   Moderate   \n",
       "1         Everest Base Camp Short Trek  \\n$1,295     USD   14 Days   Moderate   \n",
       "2  Everest Base Camp Heli Shuttle Trek       \\n$2000 USD   12 Days   Moderate   \n",
       "3          Everest Base Camp Heli Trek  \\n$3,300     USD   11 Days   Moderate   \n",
       "4   Everest Base Camp Trek for Seniors  \\n$1,800     USD   20 Days   Moderate   \n",
       "\n",
       "  Max Altitude      Accomodation          Best Travel Time Date of Travel  \\\n",
       "0       5545 m  Hotel/Guesthouse  March - May & Sept - Dec      9/13/2022   \n",
       "1       5545 m  Hotel/Guesthouse  March - May & Sept - Dec       9/4/2021   \n",
       "2       5545 m  Hotel/Guesthouse  March - May & Sept - Dec      1/25/2021   \n",
       "3       5545 m  Hotel/Guesthouse  March - May & Sept - Dec      1/28/2022   \n",
       "4       5545 m  Hotel/Guesthouse  March - May & Sept - Dec     10/21/2021   \n",
       "\n",
       "          Sex  Age  ... Weather Conditions  Trekking Group Size  \\\n",
       "0  Non-Binary   31  ...              Clear                 10.0   \n",
       "1      Female   31  ...                NaN                  NaN   \n",
       "2      Female   34  ...              Snowy                 12.0   \n",
       "3  Non-Binary   28  ...              Clear                  5.0   \n",
       "4  Non-Binary   28  ...             Cloudy                  6.0   \n",
       "\n",
       "  Guide/No Guide Equipment Used  Purpose of Travel Health Incidents  \\\n",
       "0          Guide          Poles            Leisure              NaN   \n",
       "1            NaN            NaN                NaN              NaN   \n",
       "2          Guide         Oxygen            Charity              NaN   \n",
       "3          Guide          Poles            Leisure              NaN   \n",
       "4       No Guide            NaN          Adventure     Minor Injury   \n",
       "\n",
       "  Review/Satisfaction                         Trek_cleaned Cost_cleaned  \\\n",
       "0                 4.5               Everest Base Camp Trek         1420   \n",
       "1                 NaN         Everest Base Camp Short Trek         1295   \n",
       "2                 5.0  Everest Base Camp Heli Shuttle Trek         2000   \n",
       "3                 4.0          Everest Base Camp Heli Trek         3300   \n",
       "4                 3.5               Everest Base Camp Trek         1800   \n",
       "\n",
       "   Time_cleaned  \n",
       "0           16   \n",
       "1           14   \n",
       "2           12   \n",
       "3           11   \n",
       "4           20   \n",
       "\n",
       "[5 rows x 23 columns]"
      ]
     },
     "execution_count": 17,
     "metadata": {},
     "output_type": "execute_result"
    }
   ],
   "source": [
    "df['Time_cleaned']= df['Time'].str.strip().replace({',':'', 'Days':'','days':''}, regex= True)\n",
    "df.head()"
   ]
  },
  {
   "cell_type": "code",
   "execution_count": 18,
   "id": "cfd80c69-502a-4c98-88a2-a4ae5f393bd5",
   "metadata": {},
   "outputs": [],
   "source": [
    "# ensure that the column contains only numeric values. You can use pd.to_numeric() to coerce non-numeric values to NaN\n",
    "df['Time_cleaned'] = pd.to_numeric(df['Time_cleaned'], errors='coerce')"
   ]
  },
  {
   "cell_type": "code",
   "execution_count": 19,
   "id": "ec74326a-0795-4e92-9c42-c3fbd7e9d58e",
   "metadata": {},
   "outputs": [
    {
     "data": {
      "text/plain": [
       "dtype('int64')"
      ]
     },
     "execution_count": 19,
     "metadata": {},
     "output_type": "execute_result"
    }
   ],
   "source": [
    "df['Time_cleaned'].dtype"
   ]
  },
  {
   "cell_type": "markdown",
   "id": "ce320f9e-98aa-4d09-90af-93e87e232090",
   "metadata": {},
   "source": [
    "Trip Grade"
   ]
  },
  {
   "cell_type": "code",
   "execution_count": 20,
   "id": "a7afc9e6-dd94-4b09-a367-b56b63c0e218",
   "metadata": {},
   "outputs": [
    {
     "data": {
      "text/plain": [
       "array(['Moderate', 'Strenuous', 'Easy To Moderate', 'Easy',\n",
       "       'Moderate+Demanding', 'Demanding', 'Light+Moderate',\n",
       "       'Demanding+Challenging', 'Light', 'Moderate-Hard', 'Easy-Moderate'],\n",
       "      dtype=object)"
      ]
     },
     "execution_count": 20,
     "metadata": {},
     "output_type": "execute_result"
    }
   ],
   "source": [
    "df['Trip Grade'].unique()"
   ]
  },
  {
   "cell_type": "code",
   "execution_count": 21,
   "id": "132e96b2-8187-4adf-9c6c-2f9c8f59bbc2",
   "metadata": {},
   "outputs": [],
   "source": [
    "df['Trip_Grade_cleaned']= df['Trip Grade'].str.strip().replace({'Strenuous':'Hard','Easy to Moderate':'Moderate', 'Moderate+Demanding':'Moderate', 'Demanding':'Moderate', 'Light+Moderate':'Moderate', \n",
    "                                                               'Easy-Moderate':'Moderate', 'Demanding+Challenging':'Hard', 'Light':'Easy', 'Moderate-Hard':'Hard'}, regex= True)"
   ]
  },
  {
   "cell_type": "code",
   "execution_count": 22,
   "id": "f9db2f13-d583-46eb-a97f-5b6512f6939b",
   "metadata": {},
   "outputs": [],
   "source": [
    "df['Trip_Grade_cleaned']= df['Trip_Grade_cleaned'].str.strip().replace({'Moderate+Challenging':'Moderate', 'Moderate+Moderate':'Moderate', 'Easy+Moderate':'Moderate', \n",
    "                                                                'Easy To Moderate':'Moderate'}, regex= False)"
   ]
  },
  {
   "cell_type": "code",
   "execution_count": 23,
   "id": "ed032bbd-ccd4-4fab-ac53-639c917712e2",
   "metadata": {},
   "outputs": [
    {
     "data": {
      "text/plain": [
       "array(['Moderate', 'Hard', 'Easy'], dtype=object)"
      ]
     },
     "execution_count": 23,
     "metadata": {},
     "output_type": "execute_result"
    }
   ],
   "source": [
    "df['Trip_Grade_cleaned'].unique()"
   ]
  },
  {
   "cell_type": "code",
   "execution_count": 24,
   "id": "219c5e9a-1e94-4d56-8668-16bb5fe9e9cc",
   "metadata": {},
   "outputs": [
    {
     "data": {
      "text/html": [
       "<div>\n",
       "<style scoped>\n",
       "    .dataframe tbody tr th:only-of-type {\n",
       "        vertical-align: middle;\n",
       "    }\n",
       "\n",
       "    .dataframe tbody tr th {\n",
       "        vertical-align: top;\n",
       "    }\n",
       "\n",
       "    .dataframe thead th {\n",
       "        text-align: right;\n",
       "    }\n",
       "</style>\n",
       "<table border=\"1\" class=\"dataframe\">\n",
       "  <thead>\n",
       "    <tr style=\"text-align: right;\">\n",
       "      <th></th>\n",
       "      <th>Trek</th>\n",
       "      <th>Cost</th>\n",
       "      <th>Time</th>\n",
       "      <th>Trip Grade</th>\n",
       "      <th>Max Altitude</th>\n",
       "      <th>Accomodation</th>\n",
       "      <th>Best Travel Time</th>\n",
       "      <th>Date of Travel</th>\n",
       "      <th>Sex</th>\n",
       "      <th>Age</th>\n",
       "      <th>...</th>\n",
       "      <th>Trekking Group Size</th>\n",
       "      <th>Guide/No Guide</th>\n",
       "      <th>Equipment Used</th>\n",
       "      <th>Purpose of Travel</th>\n",
       "      <th>Health Incidents</th>\n",
       "      <th>Review/Satisfaction</th>\n",
       "      <th>Trek_cleaned</th>\n",
       "      <th>Cost_cleaned</th>\n",
       "      <th>Time_cleaned</th>\n",
       "      <th>Trip_Grade_cleaned</th>\n",
       "    </tr>\n",
       "  </thead>\n",
       "  <tbody>\n",
       "    <tr>\n",
       "      <th>0</th>\n",
       "      <td>Everest Base Camp Trek</td>\n",
       "      <td>\\n$1,420     USD</td>\n",
       "      <td>16 Days</td>\n",
       "      <td>Moderate</td>\n",
       "      <td>5545 m</td>\n",
       "      <td>Hotel/Guesthouse</td>\n",
       "      <td>March - May &amp; Sept - Dec</td>\n",
       "      <td>9/13/2022</td>\n",
       "      <td>Non-Binary</td>\n",
       "      <td>31</td>\n",
       "      <td>...</td>\n",
       "      <td>10.0</td>\n",
       "      <td>Guide</td>\n",
       "      <td>Poles</td>\n",
       "      <td>Leisure</td>\n",
       "      <td>NaN</td>\n",
       "      <td>4.5</td>\n",
       "      <td>Everest Base Camp Trek</td>\n",
       "      <td>1420</td>\n",
       "      <td>16</td>\n",
       "      <td>Moderate</td>\n",
       "    </tr>\n",
       "    <tr>\n",
       "      <th>1</th>\n",
       "      <td>Everest Base Camp Short Trek</td>\n",
       "      <td>\\n$1,295     USD</td>\n",
       "      <td>14 Days</td>\n",
       "      <td>Moderate</td>\n",
       "      <td>5545 m</td>\n",
       "      <td>Hotel/Guesthouse</td>\n",
       "      <td>March - May &amp; Sept - Dec</td>\n",
       "      <td>9/4/2021</td>\n",
       "      <td>Female</td>\n",
       "      <td>31</td>\n",
       "      <td>...</td>\n",
       "      <td>NaN</td>\n",
       "      <td>NaN</td>\n",
       "      <td>NaN</td>\n",
       "      <td>NaN</td>\n",
       "      <td>NaN</td>\n",
       "      <td>NaN</td>\n",
       "      <td>Everest Base Camp Short Trek</td>\n",
       "      <td>1295</td>\n",
       "      <td>14</td>\n",
       "      <td>Moderate</td>\n",
       "    </tr>\n",
       "    <tr>\n",
       "      <th>2</th>\n",
       "      <td>Everest Base Camp Heli Shuttle Trek</td>\n",
       "      <td>\\n$2000 USD</td>\n",
       "      <td>12 Days</td>\n",
       "      <td>Moderate</td>\n",
       "      <td>5545 m</td>\n",
       "      <td>Hotel/Guesthouse</td>\n",
       "      <td>March - May &amp; Sept - Dec</td>\n",
       "      <td>1/25/2021</td>\n",
       "      <td>Female</td>\n",
       "      <td>34</td>\n",
       "      <td>...</td>\n",
       "      <td>12.0</td>\n",
       "      <td>Guide</td>\n",
       "      <td>Oxygen</td>\n",
       "      <td>Charity</td>\n",
       "      <td>NaN</td>\n",
       "      <td>5.0</td>\n",
       "      <td>Everest Base Camp Heli Shuttle Trek</td>\n",
       "      <td>2000</td>\n",
       "      <td>12</td>\n",
       "      <td>Moderate</td>\n",
       "    </tr>\n",
       "    <tr>\n",
       "      <th>3</th>\n",
       "      <td>Everest Base Camp Heli Trek</td>\n",
       "      <td>\\n$3,300     USD</td>\n",
       "      <td>11 Days</td>\n",
       "      <td>Moderate</td>\n",
       "      <td>5545 m</td>\n",
       "      <td>Hotel/Guesthouse</td>\n",
       "      <td>March - May &amp; Sept - Dec</td>\n",
       "      <td>1/28/2022</td>\n",
       "      <td>Non-Binary</td>\n",
       "      <td>28</td>\n",
       "      <td>...</td>\n",
       "      <td>5.0</td>\n",
       "      <td>Guide</td>\n",
       "      <td>Poles</td>\n",
       "      <td>Leisure</td>\n",
       "      <td>NaN</td>\n",
       "      <td>4.0</td>\n",
       "      <td>Everest Base Camp Heli Trek</td>\n",
       "      <td>3300</td>\n",
       "      <td>11</td>\n",
       "      <td>Moderate</td>\n",
       "    </tr>\n",
       "    <tr>\n",
       "      <th>4</th>\n",
       "      <td>Everest Base Camp Trek for Seniors</td>\n",
       "      <td>\\n$1,800     USD</td>\n",
       "      <td>20 Days</td>\n",
       "      <td>Moderate</td>\n",
       "      <td>5545 m</td>\n",
       "      <td>Hotel/Guesthouse</td>\n",
       "      <td>March - May &amp; Sept - Dec</td>\n",
       "      <td>10/21/2021</td>\n",
       "      <td>Non-Binary</td>\n",
       "      <td>28</td>\n",
       "      <td>...</td>\n",
       "      <td>6.0</td>\n",
       "      <td>No Guide</td>\n",
       "      <td>NaN</td>\n",
       "      <td>Adventure</td>\n",
       "      <td>Minor Injury</td>\n",
       "      <td>3.5</td>\n",
       "      <td>Everest Base Camp Trek</td>\n",
       "      <td>1800</td>\n",
       "      <td>20</td>\n",
       "      <td>Moderate</td>\n",
       "    </tr>\n",
       "  </tbody>\n",
       "</table>\n",
       "<p>5 rows × 24 columns</p>\n",
       "</div>"
      ],
      "text/plain": [
       "                                  Trek              Cost      Time Trip Grade  \\\n",
       "0               Everest Base Camp Trek  \\n$1,420     USD   16 Days   Moderate   \n",
       "1         Everest Base Camp Short Trek  \\n$1,295     USD   14 Days   Moderate   \n",
       "2  Everest Base Camp Heli Shuttle Trek       \\n$2000 USD   12 Days   Moderate   \n",
       "3          Everest Base Camp Heli Trek  \\n$3,300     USD   11 Days   Moderate   \n",
       "4   Everest Base Camp Trek for Seniors  \\n$1,800     USD   20 Days   Moderate   \n",
       "\n",
       "  Max Altitude      Accomodation          Best Travel Time Date of Travel  \\\n",
       "0       5545 m  Hotel/Guesthouse  March - May & Sept - Dec      9/13/2022   \n",
       "1       5545 m  Hotel/Guesthouse  March - May & Sept - Dec       9/4/2021   \n",
       "2       5545 m  Hotel/Guesthouse  March - May & Sept - Dec      1/25/2021   \n",
       "3       5545 m  Hotel/Guesthouse  March - May & Sept - Dec      1/28/2022   \n",
       "4       5545 m  Hotel/Guesthouse  March - May & Sept - Dec     10/21/2021   \n",
       "\n",
       "          Sex  Age  ... Trekking Group Size  Guide/No Guide Equipment Used  \\\n",
       "0  Non-Binary   31  ...                10.0           Guide          Poles   \n",
       "1      Female   31  ...                 NaN             NaN            NaN   \n",
       "2      Female   34  ...                12.0           Guide         Oxygen   \n",
       "3  Non-Binary   28  ...                 5.0           Guide          Poles   \n",
       "4  Non-Binary   28  ...                 6.0        No Guide            NaN   \n",
       "\n",
       "  Purpose of Travel  Health Incidents Review/Satisfaction  \\\n",
       "0           Leisure               NaN                 4.5   \n",
       "1               NaN               NaN                 NaN   \n",
       "2           Charity               NaN                 5.0   \n",
       "3           Leisure               NaN                 4.0   \n",
       "4         Adventure      Minor Injury                 3.5   \n",
       "\n",
       "                          Trek_cleaned Cost_cleaned Time_cleaned  \\\n",
       "0               Everest Base Camp Trek         1420           16   \n",
       "1         Everest Base Camp Short Trek         1295           14   \n",
       "2  Everest Base Camp Heli Shuttle Trek         2000           12   \n",
       "3          Everest Base Camp Heli Trek         3300           11   \n",
       "4               Everest Base Camp Trek         1800           20   \n",
       "\n",
       "   Trip_Grade_cleaned  \n",
       "0            Moderate  \n",
       "1            Moderate  \n",
       "2            Moderate  \n",
       "3            Moderate  \n",
       "4            Moderate  \n",
       "\n",
       "[5 rows x 24 columns]"
      ]
     },
     "execution_count": 24,
     "metadata": {},
     "output_type": "execute_result"
    }
   ],
   "source": [
    "df.head()"
   ]
  },
  {
   "cell_type": "code",
   "execution_count": 25,
   "id": "5ab5a6ef-aff8-4c6f-ac38-ca9b74c40b67",
   "metadata": {},
   "outputs": [],
   "source": [
    "df['Trip_Grade_cleaned']=df['Trip_Grade_cleaned'].str.strip()\n",
    "grade_map= {'Easy':1, 'Moderate':2, 'Hard':3}\n",
    "df['Trip_Grade_cleaned']=df['Trip_Grade_cleaned'].map(grade_map)"
   ]
  },
  {
   "cell_type": "code",
   "execution_count": 26,
   "id": "0b2408bf-e71c-40fb-b658-2735305ff4d7",
   "metadata": {},
   "outputs": [
    {
     "data": {
      "text/html": [
       "<div>\n",
       "<style scoped>\n",
       "    .dataframe tbody tr th:only-of-type {\n",
       "        vertical-align: middle;\n",
       "    }\n",
       "\n",
       "    .dataframe tbody tr th {\n",
       "        vertical-align: top;\n",
       "    }\n",
       "\n",
       "    .dataframe thead th {\n",
       "        text-align: right;\n",
       "    }\n",
       "</style>\n",
       "<table border=\"1\" class=\"dataframe\">\n",
       "  <thead>\n",
       "    <tr style=\"text-align: right;\">\n",
       "      <th></th>\n",
       "      <th>Trek</th>\n",
       "      <th>Cost</th>\n",
       "      <th>Time</th>\n",
       "      <th>Trip Grade</th>\n",
       "      <th>Max Altitude</th>\n",
       "      <th>Accomodation</th>\n",
       "      <th>Best Travel Time</th>\n",
       "      <th>Date of Travel</th>\n",
       "      <th>Sex</th>\n",
       "      <th>Age</th>\n",
       "      <th>...</th>\n",
       "      <th>Trekking Group Size</th>\n",
       "      <th>Guide/No Guide</th>\n",
       "      <th>Equipment Used</th>\n",
       "      <th>Purpose of Travel</th>\n",
       "      <th>Health Incidents</th>\n",
       "      <th>Review/Satisfaction</th>\n",
       "      <th>Trek_cleaned</th>\n",
       "      <th>Cost_cleaned</th>\n",
       "      <th>Time_cleaned</th>\n",
       "      <th>Trip_Grade_cleaned</th>\n",
       "    </tr>\n",
       "  </thead>\n",
       "  <tbody>\n",
       "    <tr>\n",
       "      <th>0</th>\n",
       "      <td>Everest Base Camp Trek</td>\n",
       "      <td>\\n$1,420     USD</td>\n",
       "      <td>16 Days</td>\n",
       "      <td>Moderate</td>\n",
       "      <td>5545 m</td>\n",
       "      <td>Hotel/Guesthouse</td>\n",
       "      <td>March - May &amp; Sept - Dec</td>\n",
       "      <td>9/13/2022</td>\n",
       "      <td>Non-Binary</td>\n",
       "      <td>31</td>\n",
       "      <td>...</td>\n",
       "      <td>10.0</td>\n",
       "      <td>Guide</td>\n",
       "      <td>Poles</td>\n",
       "      <td>Leisure</td>\n",
       "      <td>NaN</td>\n",
       "      <td>4.5</td>\n",
       "      <td>Everest Base Camp Trek</td>\n",
       "      <td>1420</td>\n",
       "      <td>16</td>\n",
       "      <td>2</td>\n",
       "    </tr>\n",
       "    <tr>\n",
       "      <th>1</th>\n",
       "      <td>Everest Base Camp Short Trek</td>\n",
       "      <td>\\n$1,295     USD</td>\n",
       "      <td>14 Days</td>\n",
       "      <td>Moderate</td>\n",
       "      <td>5545 m</td>\n",
       "      <td>Hotel/Guesthouse</td>\n",
       "      <td>March - May &amp; Sept - Dec</td>\n",
       "      <td>9/4/2021</td>\n",
       "      <td>Female</td>\n",
       "      <td>31</td>\n",
       "      <td>...</td>\n",
       "      <td>NaN</td>\n",
       "      <td>NaN</td>\n",
       "      <td>NaN</td>\n",
       "      <td>NaN</td>\n",
       "      <td>NaN</td>\n",
       "      <td>NaN</td>\n",
       "      <td>Everest Base Camp Short Trek</td>\n",
       "      <td>1295</td>\n",
       "      <td>14</td>\n",
       "      <td>2</td>\n",
       "    </tr>\n",
       "    <tr>\n",
       "      <th>2</th>\n",
       "      <td>Everest Base Camp Heli Shuttle Trek</td>\n",
       "      <td>\\n$2000 USD</td>\n",
       "      <td>12 Days</td>\n",
       "      <td>Moderate</td>\n",
       "      <td>5545 m</td>\n",
       "      <td>Hotel/Guesthouse</td>\n",
       "      <td>March - May &amp; Sept - Dec</td>\n",
       "      <td>1/25/2021</td>\n",
       "      <td>Female</td>\n",
       "      <td>34</td>\n",
       "      <td>...</td>\n",
       "      <td>12.0</td>\n",
       "      <td>Guide</td>\n",
       "      <td>Oxygen</td>\n",
       "      <td>Charity</td>\n",
       "      <td>NaN</td>\n",
       "      <td>5.0</td>\n",
       "      <td>Everest Base Camp Heli Shuttle Trek</td>\n",
       "      <td>2000</td>\n",
       "      <td>12</td>\n",
       "      <td>2</td>\n",
       "    </tr>\n",
       "    <tr>\n",
       "      <th>3</th>\n",
       "      <td>Everest Base Camp Heli Trek</td>\n",
       "      <td>\\n$3,300     USD</td>\n",
       "      <td>11 Days</td>\n",
       "      <td>Moderate</td>\n",
       "      <td>5545 m</td>\n",
       "      <td>Hotel/Guesthouse</td>\n",
       "      <td>March - May &amp; Sept - Dec</td>\n",
       "      <td>1/28/2022</td>\n",
       "      <td>Non-Binary</td>\n",
       "      <td>28</td>\n",
       "      <td>...</td>\n",
       "      <td>5.0</td>\n",
       "      <td>Guide</td>\n",
       "      <td>Poles</td>\n",
       "      <td>Leisure</td>\n",
       "      <td>NaN</td>\n",
       "      <td>4.0</td>\n",
       "      <td>Everest Base Camp Heli Trek</td>\n",
       "      <td>3300</td>\n",
       "      <td>11</td>\n",
       "      <td>2</td>\n",
       "    </tr>\n",
       "    <tr>\n",
       "      <th>4</th>\n",
       "      <td>Everest Base Camp Trek for Seniors</td>\n",
       "      <td>\\n$1,800     USD</td>\n",
       "      <td>20 Days</td>\n",
       "      <td>Moderate</td>\n",
       "      <td>5545 m</td>\n",
       "      <td>Hotel/Guesthouse</td>\n",
       "      <td>March - May &amp; Sept - Dec</td>\n",
       "      <td>10/21/2021</td>\n",
       "      <td>Non-Binary</td>\n",
       "      <td>28</td>\n",
       "      <td>...</td>\n",
       "      <td>6.0</td>\n",
       "      <td>No Guide</td>\n",
       "      <td>NaN</td>\n",
       "      <td>Adventure</td>\n",
       "      <td>Minor Injury</td>\n",
       "      <td>3.5</td>\n",
       "      <td>Everest Base Camp Trek</td>\n",
       "      <td>1800</td>\n",
       "      <td>20</td>\n",
       "      <td>2</td>\n",
       "    </tr>\n",
       "  </tbody>\n",
       "</table>\n",
       "<p>5 rows × 24 columns</p>\n",
       "</div>"
      ],
      "text/plain": [
       "                                  Trek              Cost      Time Trip Grade  \\\n",
       "0               Everest Base Camp Trek  \\n$1,420     USD   16 Days   Moderate   \n",
       "1         Everest Base Camp Short Trek  \\n$1,295     USD   14 Days   Moderate   \n",
       "2  Everest Base Camp Heli Shuttle Trek       \\n$2000 USD   12 Days   Moderate   \n",
       "3          Everest Base Camp Heli Trek  \\n$3,300     USD   11 Days   Moderate   \n",
       "4   Everest Base Camp Trek for Seniors  \\n$1,800     USD   20 Days   Moderate   \n",
       "\n",
       "  Max Altitude      Accomodation          Best Travel Time Date of Travel  \\\n",
       "0       5545 m  Hotel/Guesthouse  March - May & Sept - Dec      9/13/2022   \n",
       "1       5545 m  Hotel/Guesthouse  March - May & Sept - Dec       9/4/2021   \n",
       "2       5545 m  Hotel/Guesthouse  March - May & Sept - Dec      1/25/2021   \n",
       "3       5545 m  Hotel/Guesthouse  March - May & Sept - Dec      1/28/2022   \n",
       "4       5545 m  Hotel/Guesthouse  March - May & Sept - Dec     10/21/2021   \n",
       "\n",
       "          Sex  Age  ... Trekking Group Size  Guide/No Guide Equipment Used  \\\n",
       "0  Non-Binary   31  ...                10.0           Guide          Poles   \n",
       "1      Female   31  ...                 NaN             NaN            NaN   \n",
       "2      Female   34  ...                12.0           Guide         Oxygen   \n",
       "3  Non-Binary   28  ...                 5.0           Guide          Poles   \n",
       "4  Non-Binary   28  ...                 6.0        No Guide            NaN   \n",
       "\n",
       "  Purpose of Travel  Health Incidents Review/Satisfaction  \\\n",
       "0           Leisure               NaN                 4.5   \n",
       "1               NaN               NaN                 NaN   \n",
       "2           Charity               NaN                 5.0   \n",
       "3           Leisure               NaN                 4.0   \n",
       "4         Adventure      Minor Injury                 3.5   \n",
       "\n",
       "                          Trek_cleaned Cost_cleaned Time_cleaned  \\\n",
       "0               Everest Base Camp Trek         1420           16   \n",
       "1         Everest Base Camp Short Trek         1295           14   \n",
       "2  Everest Base Camp Heli Shuttle Trek         2000           12   \n",
       "3          Everest Base Camp Heli Trek         3300           11   \n",
       "4               Everest Base Camp Trek         1800           20   \n",
       "\n",
       "   Trip_Grade_cleaned  \n",
       "0                   2  \n",
       "1                   2  \n",
       "2                   2  \n",
       "3                   2  \n",
       "4                   2  \n",
       "\n",
       "[5 rows x 24 columns]"
      ]
     },
     "execution_count": 26,
     "metadata": {},
     "output_type": "execute_result"
    }
   ],
   "source": [
    "df.head()"
   ]
  },
  {
   "cell_type": "code",
   "execution_count": 27,
   "id": "f43d3868-6c9c-4e0a-8d73-cfbb9bc672ee",
   "metadata": {},
   "outputs": [
    {
     "data": {
      "text/plain": [
       "array([2, 3, 1])"
      ]
     },
     "execution_count": 27,
     "metadata": {},
     "output_type": "execute_result"
    }
   ],
   "source": [
    "df['Trip_Grade_cleaned'].unique()"
   ]
  },
  {
   "cell_type": "code",
   "execution_count": 28,
   "id": "88a23f77-4482-4d27-80db-1f94584bd6bd",
   "metadata": {},
   "outputs": [
    {
     "data": {
      "text/plain": [
       "dtype('int64')"
      ]
     },
     "execution_count": 28,
     "metadata": {},
     "output_type": "execute_result"
    }
   ],
   "source": [
    "df['Trip_Grade_cleaned'].dtype"
   ]
  },
  {
   "cell_type": "markdown",
   "id": "e0693d43-f34b-4412-8bc8-4d4bfd60e6b8",
   "metadata": {},
   "source": [
    "Max Altitude"
   ]
  },
  {
   "cell_type": "code",
   "execution_count": 29,
   "id": "869aec88-4213-4ab4-a557-d9b828e60bad",
   "metadata": {},
   "outputs": [
    {
     "data": {
      "text/plain": [
       "array(['5545 m', '5360 m', '3900 m', '3860 m', '4210 m', '4230 m',\n",
       "       '4200 m', '4,200 m', '5416 m', '2012m', '3210 m', '1990 m',\n",
       "       '5106 m', '5220 m', '5050 m', '4600m', '2607 m', '3650 m',\n",
       "       '4,130m', '5,545m', '5,416m', '3,870m', '6,340m', '5,357m',\n",
       "       '3,540m', '5,160m', '5,000m', '3,055m', '5,546m', '5,143m',\n",
       "       '6,000m', '1,730m', '4,870m', '5,320m', '4,460m', '4,500m',\n",
       "       '3,210m', '5,122m', '1,550m', '3,860m', '4200m', '4,773m',\n",
       "       '5,220m'], dtype=object)"
      ]
     },
     "execution_count": 29,
     "metadata": {},
     "output_type": "execute_result"
    }
   ],
   "source": [
    "df['Max Altitude'].unique()"
   ]
  },
  {
   "cell_type": "code",
   "execution_count": 30,
   "id": "3b37bdda-f60f-47a5-a32c-a210263ff985",
   "metadata": {},
   "outputs": [],
   "source": [
    "df['Max_Altitude_cleaned']= df['Max Altitude'].str.strip()"
   ]
  },
  {
   "cell_type": "code",
   "execution_count": 31,
   "id": "df60366c-483f-4b48-a9b6-a868740bfa7e",
   "metadata": {},
   "outputs": [],
   "source": [
    "df['Max_Altitude_cleaned']= df['Max_Altitude_cleaned'].replace({'m':'', ',':''}, regex= True)"
   ]
  },
  {
   "cell_type": "code",
   "execution_count": 32,
   "id": "6e80f031-a731-4878-8618-72995e87f922",
   "metadata": {},
   "outputs": [],
   "source": [
    "# Split the string and take the first part (before the space)\n",
    "df['Max_Altitude_cleaned'] = df['Max_Altitude_cleaned'].str.split(' ').str[0]"
   ]
  },
  {
   "cell_type": "code",
   "execution_count": 33,
   "id": "a066f55c-296d-4e1f-a046-935f6b5c5319",
   "metadata": {},
   "outputs": [
    {
     "data": {
      "text/plain": [
       "dtype('O')"
      ]
     },
     "execution_count": 33,
     "metadata": {},
     "output_type": "execute_result"
    }
   ],
   "source": [
    "df['Max_Altitude_cleaned'].dtype"
   ]
  },
  {
   "cell_type": "code",
   "execution_count": 34,
   "id": "5ba1a475-2ff1-4b1b-9641-cd395165745e",
   "metadata": {},
   "outputs": [
    {
     "name": "stdout",
     "output_type": "stream",
     "text": [
      "0\n"
     ]
    }
   ],
   "source": [
    "df['Max_Altitude_cleaned'] = pd.to_numeric(df['Max_Altitude_cleaned'], errors='coerce')\n",
    "\n",
    "# Check if there are still any non-convertible values\n",
    "print(df['Max_Altitude_cleaned'].isna().sum())  # This shows how many NaN values there are"
   ]
  },
  {
   "cell_type": "code",
   "execution_count": 35,
   "id": "33cff60d-57f0-403d-a0a9-6d35b178ec93",
   "metadata": {},
   "outputs": [],
   "source": [
    "df['Max_Altitude_cleaned']=df['Max_Altitude_cleaned'].astype(int)"
   ]
  },
  {
   "cell_type": "code",
   "execution_count": 36,
   "id": "3a0cb9f7-cead-41b1-8b83-1cbc1eb42c3d",
   "metadata": {},
   "outputs": [
    {
     "data": {
      "text/plain": [
       "dtype('int64')"
      ]
     },
     "execution_count": 36,
     "metadata": {},
     "output_type": "execute_result"
    }
   ],
   "source": [
    "df['Max_Altitude_cleaned'].dtype"
   ]
  },
  {
   "cell_type": "markdown",
   "id": "552a3d06-2008-4d4c-b714-eac3b7713002",
   "metadata": {},
   "source": [
    "Accomodation"
   ]
  },
  {
   "cell_type": "code",
   "execution_count": 37,
   "id": "7f90b8a9-f867-4d4e-a780-520fe75bc7db",
   "metadata": {},
   "outputs": [],
   "source": [
    "df['Accomodation/Hotel_type']=df['Accomodation'].str.strip().replace('Hotel/', '', regex=True)"
   ]
  },
  {
   "cell_type": "code",
   "execution_count": 38,
   "id": "80c67aed-f144-4b2b-b1ea-7624993228f9",
   "metadata": {},
   "outputs": [
    {
     "data": {
      "text/html": [
       "<div>\n",
       "<style scoped>\n",
       "    .dataframe tbody tr th:only-of-type {\n",
       "        vertical-align: middle;\n",
       "    }\n",
       "\n",
       "    .dataframe tbody tr th {\n",
       "        vertical-align: top;\n",
       "    }\n",
       "\n",
       "    .dataframe thead th {\n",
       "        text-align: right;\n",
       "    }\n",
       "</style>\n",
       "<table border=\"1\" class=\"dataframe\">\n",
       "  <thead>\n",
       "    <tr style=\"text-align: right;\">\n",
       "      <th></th>\n",
       "      <th>Trek</th>\n",
       "      <th>Cost</th>\n",
       "      <th>Time</th>\n",
       "      <th>Trip Grade</th>\n",
       "      <th>Max Altitude</th>\n",
       "      <th>Accomodation</th>\n",
       "      <th>Best Travel Time</th>\n",
       "      <th>Date of Travel</th>\n",
       "      <th>Sex</th>\n",
       "      <th>Age</th>\n",
       "      <th>...</th>\n",
       "      <th>Equipment Used</th>\n",
       "      <th>Purpose of Travel</th>\n",
       "      <th>Health Incidents</th>\n",
       "      <th>Review/Satisfaction</th>\n",
       "      <th>Trek_cleaned</th>\n",
       "      <th>Cost_cleaned</th>\n",
       "      <th>Time_cleaned</th>\n",
       "      <th>Trip_Grade_cleaned</th>\n",
       "      <th>Max_Altitude_cleaned</th>\n",
       "      <th>Accomodation/Hotel_type</th>\n",
       "    </tr>\n",
       "  </thead>\n",
       "  <tbody>\n",
       "    <tr>\n",
       "      <th>0</th>\n",
       "      <td>Everest Base Camp Trek</td>\n",
       "      <td>\\n$1,420     USD</td>\n",
       "      <td>16 Days</td>\n",
       "      <td>Moderate</td>\n",
       "      <td>5545 m</td>\n",
       "      <td>Hotel/Guesthouse</td>\n",
       "      <td>March - May &amp; Sept - Dec</td>\n",
       "      <td>9/13/2022</td>\n",
       "      <td>Non-Binary</td>\n",
       "      <td>31</td>\n",
       "      <td>...</td>\n",
       "      <td>Poles</td>\n",
       "      <td>Leisure</td>\n",
       "      <td>NaN</td>\n",
       "      <td>4.5</td>\n",
       "      <td>Everest Base Camp Trek</td>\n",
       "      <td>1420</td>\n",
       "      <td>16</td>\n",
       "      <td>2</td>\n",
       "      <td>5545</td>\n",
       "      <td>Guesthouse</td>\n",
       "    </tr>\n",
       "    <tr>\n",
       "      <th>1</th>\n",
       "      <td>Everest Base Camp Short Trek</td>\n",
       "      <td>\\n$1,295     USD</td>\n",
       "      <td>14 Days</td>\n",
       "      <td>Moderate</td>\n",
       "      <td>5545 m</td>\n",
       "      <td>Hotel/Guesthouse</td>\n",
       "      <td>March - May &amp; Sept - Dec</td>\n",
       "      <td>9/4/2021</td>\n",
       "      <td>Female</td>\n",
       "      <td>31</td>\n",
       "      <td>...</td>\n",
       "      <td>NaN</td>\n",
       "      <td>NaN</td>\n",
       "      <td>NaN</td>\n",
       "      <td>NaN</td>\n",
       "      <td>Everest Base Camp Short Trek</td>\n",
       "      <td>1295</td>\n",
       "      <td>14</td>\n",
       "      <td>2</td>\n",
       "      <td>5545</td>\n",
       "      <td>Guesthouse</td>\n",
       "    </tr>\n",
       "    <tr>\n",
       "      <th>2</th>\n",
       "      <td>Everest Base Camp Heli Shuttle Trek</td>\n",
       "      <td>\\n$2000 USD</td>\n",
       "      <td>12 Days</td>\n",
       "      <td>Moderate</td>\n",
       "      <td>5545 m</td>\n",
       "      <td>Hotel/Guesthouse</td>\n",
       "      <td>March - May &amp; Sept - Dec</td>\n",
       "      <td>1/25/2021</td>\n",
       "      <td>Female</td>\n",
       "      <td>34</td>\n",
       "      <td>...</td>\n",
       "      <td>Oxygen</td>\n",
       "      <td>Charity</td>\n",
       "      <td>NaN</td>\n",
       "      <td>5.0</td>\n",
       "      <td>Everest Base Camp Heli Shuttle Trek</td>\n",
       "      <td>2000</td>\n",
       "      <td>12</td>\n",
       "      <td>2</td>\n",
       "      <td>5545</td>\n",
       "      <td>Guesthouse</td>\n",
       "    </tr>\n",
       "    <tr>\n",
       "      <th>3</th>\n",
       "      <td>Everest Base Camp Heli Trek</td>\n",
       "      <td>\\n$3,300     USD</td>\n",
       "      <td>11 Days</td>\n",
       "      <td>Moderate</td>\n",
       "      <td>5545 m</td>\n",
       "      <td>Hotel/Guesthouse</td>\n",
       "      <td>March - May &amp; Sept - Dec</td>\n",
       "      <td>1/28/2022</td>\n",
       "      <td>Non-Binary</td>\n",
       "      <td>28</td>\n",
       "      <td>...</td>\n",
       "      <td>Poles</td>\n",
       "      <td>Leisure</td>\n",
       "      <td>NaN</td>\n",
       "      <td>4.0</td>\n",
       "      <td>Everest Base Camp Heli Trek</td>\n",
       "      <td>3300</td>\n",
       "      <td>11</td>\n",
       "      <td>2</td>\n",
       "      <td>5545</td>\n",
       "      <td>Guesthouse</td>\n",
       "    </tr>\n",
       "    <tr>\n",
       "      <th>4</th>\n",
       "      <td>Everest Base Camp Trek for Seniors</td>\n",
       "      <td>\\n$1,800     USD</td>\n",
       "      <td>20 Days</td>\n",
       "      <td>Moderate</td>\n",
       "      <td>5545 m</td>\n",
       "      <td>Hotel/Guesthouse</td>\n",
       "      <td>March - May &amp; Sept - Dec</td>\n",
       "      <td>10/21/2021</td>\n",
       "      <td>Non-Binary</td>\n",
       "      <td>28</td>\n",
       "      <td>...</td>\n",
       "      <td>NaN</td>\n",
       "      <td>Adventure</td>\n",
       "      <td>Minor Injury</td>\n",
       "      <td>3.5</td>\n",
       "      <td>Everest Base Camp Trek</td>\n",
       "      <td>1800</td>\n",
       "      <td>20</td>\n",
       "      <td>2</td>\n",
       "      <td>5545</td>\n",
       "      <td>Guesthouse</td>\n",
       "    </tr>\n",
       "  </tbody>\n",
       "</table>\n",
       "<p>5 rows × 26 columns</p>\n",
       "</div>"
      ],
      "text/plain": [
       "                                  Trek              Cost      Time Trip Grade  \\\n",
       "0               Everest Base Camp Trek  \\n$1,420     USD   16 Days   Moderate   \n",
       "1         Everest Base Camp Short Trek  \\n$1,295     USD   14 Days   Moderate   \n",
       "2  Everest Base Camp Heli Shuttle Trek       \\n$2000 USD   12 Days   Moderate   \n",
       "3          Everest Base Camp Heli Trek  \\n$3,300     USD   11 Days   Moderate   \n",
       "4   Everest Base Camp Trek for Seniors  \\n$1,800     USD   20 Days   Moderate   \n",
       "\n",
       "  Max Altitude      Accomodation          Best Travel Time Date of Travel  \\\n",
       "0       5545 m  Hotel/Guesthouse  March - May & Sept - Dec      9/13/2022   \n",
       "1       5545 m  Hotel/Guesthouse  March - May & Sept - Dec       9/4/2021   \n",
       "2       5545 m  Hotel/Guesthouse  March - May & Sept - Dec      1/25/2021   \n",
       "3       5545 m  Hotel/Guesthouse  March - May & Sept - Dec      1/28/2022   \n",
       "4       5545 m  Hotel/Guesthouse  March - May & Sept - Dec     10/21/2021   \n",
       "\n",
       "          Sex  Age  ... Equipment Used  Purpose of Travel Health Incidents  \\\n",
       "0  Non-Binary   31  ...          Poles            Leisure              NaN   \n",
       "1      Female   31  ...            NaN                NaN              NaN   \n",
       "2      Female   34  ...         Oxygen            Charity              NaN   \n",
       "3  Non-Binary   28  ...          Poles            Leisure              NaN   \n",
       "4  Non-Binary   28  ...            NaN          Adventure     Minor Injury   \n",
       "\n",
       "  Review/Satisfaction                         Trek_cleaned Cost_cleaned  \\\n",
       "0                 4.5               Everest Base Camp Trek         1420   \n",
       "1                 NaN         Everest Base Camp Short Trek         1295   \n",
       "2                 5.0  Everest Base Camp Heli Shuttle Trek         2000   \n",
       "3                 4.0          Everest Base Camp Heli Trek         3300   \n",
       "4                 3.5               Everest Base Camp Trek         1800   \n",
       "\n",
       "  Time_cleaned Trip_Grade_cleaned Max_Altitude_cleaned  \\\n",
       "0           16                  2                 5545   \n",
       "1           14                  2                 5545   \n",
       "2           12                  2                 5545   \n",
       "3           11                  2                 5545   \n",
       "4           20                  2                 5545   \n",
       "\n",
       "   Accomodation/Hotel_type  \n",
       "0               Guesthouse  \n",
       "1               Guesthouse  \n",
       "2               Guesthouse  \n",
       "3               Guesthouse  \n",
       "4               Guesthouse  \n",
       "\n",
       "[5 rows x 26 columns]"
      ]
     },
     "execution_count": 38,
     "metadata": {},
     "output_type": "execute_result"
    }
   ],
   "source": [
    "df.head()"
   ]
  },
  {
   "cell_type": "code",
   "execution_count": 39,
   "id": "ba3b1eb0-e7f4-4526-b215-cf6df8230f0a",
   "metadata": {},
   "outputs": [],
   "source": [
    "df['Accomodation/Hotel_type']=df['Accomodation/Hotel_type'].str.strip().replace({'Guest Houses':'Guesthouse', 'Teahouse/Lodge':'Lodge', 'Guesthouses':'Guesthouse', 'Luxury Lodges':'Lodge', 'Lodges':'Lodge', 'Teahouses/Lodges':'Lodge', 'Teahouses':'Teahouse'}, regex=True)"
   ]
  },
  {
   "cell_type": "code",
   "execution_count": 40,
   "id": "37f84c5e-6158-4d7d-8489-f85fcf224f81",
   "metadata": {},
   "outputs": [
    {
     "data": {
      "text/plain": [
       "array(['Guesthouse', 'Teahouse', 'Lodge', 'Teahouse/Lodge'], dtype=object)"
      ]
     },
     "execution_count": 40,
     "metadata": {},
     "output_type": "execute_result"
    }
   ],
   "source": [
    "df['Accomodation/Hotel_type'].unique()"
   ]
  },
  {
   "cell_type": "code",
   "execution_count": 41,
   "id": "b24aade9-f499-460c-9e49-9f952b440e5a",
   "metadata": {},
   "outputs": [],
   "source": [
    "df['Accomodation/Hotel_type']= df['Accomodation/Hotel_type'].astype(str)"
   ]
  },
  {
   "cell_type": "code",
   "execution_count": 42,
   "id": "b0e8743b-95ab-4a22-94cc-620388830516",
   "metadata": {},
   "outputs": [
    {
     "data": {
      "text/plain": [
       "dtype('O')"
      ]
     },
     "execution_count": 42,
     "metadata": {},
     "output_type": "execute_result"
    }
   ],
   "source": [
    "df['Accomodation/Hotel_type'].dtype"
   ]
  },
  {
   "cell_type": "markdown",
   "id": "c2ee622e-1b73-402c-861b-437f28173e8e",
   "metadata": {},
   "source": [
    "Best time travel 1"
   ]
  },
  {
   "cell_type": "code",
   "execution_count": 43,
   "id": "243c57b8-b440-4d23-8c87-a4d8c2ce8565",
   "metadata": {},
   "outputs": [],
   "source": [
    "df['Best_travel_time_1']= df['Best Travel Time'].str.strip().str.lower().str.split('&').str[0].str.title()"
   ]
  },
  {
   "cell_type": "code",
   "execution_count": 44,
   "id": "a1636db3-6451-4ed7-9458-4ead216bd1d6",
   "metadata": {},
   "outputs": [
    {
     "name": "stdout",
     "output_type": "stream",
     "text": [
      "Number of null values in 'Best_travel_time_1': 0\n"
     ]
    }
   ],
   "source": [
    "null_count1 = df['Best_travel_time_1'].isnull().sum()\n",
    "print(f\"Number of null values in 'Best_travel_time_1': {null_count1}\")"
   ]
  },
  {
   "cell_type": "code",
   "execution_count": 45,
   "id": "771cb1c6-297f-4ba9-860f-5c09c32d165c",
   "metadata": {},
   "outputs": [
    {
     "name": "stdout",
     "output_type": "stream",
     "text": [
      "0      March - May \n",
      "1      March - May \n",
      "2      March - May \n",
      "3      March - May \n",
      "4      March - May \n",
      "           ...     \n",
      "378      Jan - May \n",
      "379      Jan - May \n",
      "380      Jan - May \n",
      "381      Jan - May \n",
      "382      Jan - May \n",
      "Name: Best_travel_time_1, Length: 383, dtype: object\n"
     ]
    }
   ],
   "source": [
    "print(df['Best_travel_time_1'])"
   ]
  },
  {
   "cell_type": "markdown",
   "id": "f33a720f-e4cc-4aa4-a906-39a59d638c34",
   "metadata": {},
   "source": [
    "Best time travel 2"
   ]
  },
  {
   "cell_type": "code",
   "execution_count": 46,
   "id": "7daa8ee9-f298-40c0-9e74-2fb039afc996",
   "metadata": {},
   "outputs": [],
   "source": [
    "df['Best_travel_time_2']= df['Best Travel Time'].str.strip().str.lower().str.split('&').str[1].str.title()"
   ]
  },
  {
   "cell_type": "code",
   "execution_count": 47,
   "id": "4405805c-4e82-4c10-8003-565ba411ce60",
   "metadata": {},
   "outputs": [
    {
     "name": "stdout",
     "output_type": "stream",
     "text": [
      "Number of null values in 'Best_travel_time_2': 5\n"
     ]
    }
   ],
   "source": [
    "null_count2 = df['Best_travel_time_2'].isnull().sum()\n",
    "print(f\"Number of null values in 'Best_travel_time_2': {null_count2}\")"
   ]
  },
  {
   "cell_type": "code",
   "execution_count": 48,
   "id": "cbcf07ac-2f41-41cd-a066-b44daac0fcf1",
   "metadata": {},
   "outputs": [
    {
     "name": "stdout",
     "output_type": "stream",
     "text": [
      "                             Trek              Cost      Time  \\\n",
      "30   Upper Mustang Trek with Yara  \\n$2,300     USD   18 Days   \n",
      "104  Upper Mustang Trek with Yara   \\n$2,300    USD   18 Days   \n",
      "178  Upper Mustang Trek with Yara    \\n$2,300   USD   18 Days   \n",
      "252  Upper Mustang Trek with Yara     \\n$2,300  USD   18 Days   \n",
      "326  Upper Mustang Trek with Yara      \\n$2,300 USD   18 Days   \n",
      "\n",
      "           Trip Grade Max Altitude  Accomodation Best Travel Time  \\\n",
      "30   Easy To Moderate       4200 m  Hotel/Lodges      March - Nov   \n",
      "104  Easy To Moderate       4200 m  Hotel/Lodges      March - Nov   \n",
      "178  Easy To Moderate       4200 m  Hotel/Lodges      March - Nov   \n",
      "252  Easy To Moderate       4200 m  Hotel/Lodges      March - Nov   \n",
      "326  Easy To Moderate       4200 m  Hotel/Lodges      March - Nov   \n",
      "\n",
      "    Date of Travel          Sex  Age  ...   Health Incidents  \\\n",
      "30       7/23/2022  Transgender   30  ...                NaN   \n",
      "104      2/29/2020       Female   28  ...       Minor Injury   \n",
      "178      9/12/2022         Male   32  ...                NaN   \n",
      "252      3/17/2023  Transgender   29  ...                NaN   \n",
      "326       2/1/2020   Non-Binary   28  ...  Altitude Sickness   \n",
      "\n",
      "     Review/Satisfaction        Trek_cleaned Cost_cleaned  Time_cleaned  \\\n",
      "30                   4.5  Upper Mustang Trek         2300            18   \n",
      "104                  3.5  Upper Mustang Trek         2300            18   \n",
      "178                  4.0  Upper Mustang Trek         2300            18   \n",
      "252                  5.0  Upper Mustang Trek         2300            18   \n",
      "326                  3.0  Upper Mustang Trek         2300            18   \n",
      "\n",
      "    Trip_Grade_cleaned Max_Altitude_cleaned Accomodation/Hotel_type  \\\n",
      "30                   2                 4200                   Lodge   \n",
      "104                  2                 4200                   Lodge   \n",
      "178                  2                 4200                   Lodge   \n",
      "252                  2                 4200                   Lodge   \n",
      "326                  2                 4200                   Lodge   \n",
      "\n",
      "    Best_travel_time_1  Best_travel_time_2  \n",
      "30         March - Nov                 NaN  \n",
      "104        March - Nov                 NaN  \n",
      "178        March - Nov                 NaN  \n",
      "252        March - Nov                 NaN  \n",
      "326        March - Nov                 NaN  \n",
      "\n",
      "[5 rows x 28 columns]\n"
     ]
    }
   ],
   "source": [
    "# Print the rows where 'Best_travel_time_2' is null\n",
    "print(df[df['Best_travel_time_2'].isnull()])"
   ]
  },
  {
   "cell_type": "code",
   "execution_count": 49,
   "id": "75e40f8a-34b0-42e1-8e4e-98e1e9b5c942",
   "metadata": {},
   "outputs": [],
   "source": [
    "# filling the null values with the df_cleanedginal column data\n",
    "# Replace null values in 'Best_travel_time_2' with values from 'Best Travel Time'\n",
    "df['Best_travel_time_2'] = df['Best_travel_time_2'].fillna(df['Best Travel Time'])"
   ]
  },
  {
   "cell_type": "code",
   "execution_count": 50,
   "id": "c294aa5c-3d1f-43d8-bbcf-ffce29f8e11c",
   "metadata": {},
   "outputs": [
    {
     "name": "stdout",
     "output_type": "stream",
     "text": [
      "Number of null values in 'Best_travel_time_2': 0\n"
     ]
    }
   ],
   "source": [
    "null_count2 = df['Best_travel_time_2'].isnull().sum()\n",
    "print(f\"Number of null values in 'Best_travel_time_2': {null_count2}\")"
   ]
  },
  {
   "cell_type": "markdown",
   "id": "3cdf9ad8-64b5-4681-a979-26781eab3fe9",
   "metadata": {},
   "source": [
    "TRAVEL DATE"
   ]
  },
  {
   "cell_type": "code",
   "execution_count": 51,
   "id": "a8ba0ac2-75a2-43b5-82aa-cd47f6d7de48",
   "metadata": {},
   "outputs": [],
   "source": [
    "# Convert 'date_of_travel' column to datetime format\n",
    "df['travel_date'] = pd.to_datetime(df['Date of Travel'], errors='coerce')"
   ]
  },
  {
   "cell_type": "code",
   "execution_count": 52,
   "id": "92cf8aed-bb0d-4633-b356-15d64ef98390",
   "metadata": {},
   "outputs": [
    {
     "name": "stdout",
     "output_type": "stream",
     "text": [
      "datetime64[ns]\n"
     ]
    }
   ],
   "source": [
    "print(df['travel_date'].dtype)"
   ]
  },
  {
   "cell_type": "markdown",
   "id": "15f887df-9cfa-4f97-a8bc-0479e3575573",
   "metadata": {},
   "source": [
    "EMPLOYMENT TYPE"
   ]
  },
  {
   "cell_type": "code",
   "execution_count": 53,
   "id": "c8e63566-35ea-4d33-82dc-2167bf572334",
   "metadata": {},
   "outputs": [
    {
     "data": {
      "text/plain": [
       "array(['Government Sector', 'Private Sector/Self Employed'], dtype=object)"
      ]
     },
     "execution_count": 53,
     "metadata": {},
     "output_type": "execute_result"
    }
   ],
   "source": [
    "df['Employment Type'].unique()"
   ]
  },
  {
   "cell_type": "code",
   "execution_count": 54,
   "id": "cbcfeb69-8734-43bf-b557-1dbfd3beb99d",
   "metadata": {},
   "outputs": [],
   "source": [
    "df['Employment_type']= df['Employment Type'].str.replace('/Self Employed', '', regex= False)"
   ]
  },
  {
   "cell_type": "code",
   "execution_count": 55,
   "id": "99efa0fd-47fe-447c-98d6-d1c89b07aab9",
   "metadata": {},
   "outputs": [
    {
     "data": {
      "text/plain": [
       "array(['Government Sector', 'Private Sector'], dtype=object)"
      ]
     },
     "execution_count": 55,
     "metadata": {},
     "output_type": "execute_result"
    }
   ],
   "source": [
    "df['Employment_type'].unique()"
   ]
  },
  {
   "cell_type": "markdown",
   "id": "d3c4aa23-9197-42a5-9879-dbb1a4d9a70a",
   "metadata": {},
   "source": [
    "Travel year"
   ]
  },
  {
   "cell_type": "code",
   "execution_count": 56,
   "id": "71ab0fc6-9714-4ee0-a7ef-4df625c0643c",
   "metadata": {},
   "outputs": [],
   "source": [
    "df['year']= df['travel_date'].dt.year"
   ]
  },
  {
   "cell_type": "code",
   "execution_count": 57,
   "id": "45dfc3f7-6f4a-46a5-80c8-f095067c090c",
   "metadata": {},
   "outputs": [
    {
     "data": {
      "text/html": [
       "<div>\n",
       "<style scoped>\n",
       "    .dataframe tbody tr th:only-of-type {\n",
       "        vertical-align: middle;\n",
       "    }\n",
       "\n",
       "    .dataframe tbody tr th {\n",
       "        vertical-align: top;\n",
       "    }\n",
       "\n",
       "    .dataframe thead th {\n",
       "        text-align: right;\n",
       "    }\n",
       "</style>\n",
       "<table border=\"1\" class=\"dataframe\">\n",
       "  <thead>\n",
       "    <tr style=\"text-align: right;\">\n",
       "      <th></th>\n",
       "      <th>Trek</th>\n",
       "      <th>Cost</th>\n",
       "      <th>Time</th>\n",
       "      <th>Trip Grade</th>\n",
       "      <th>Max Altitude</th>\n",
       "      <th>Accomodation</th>\n",
       "      <th>Best Travel Time</th>\n",
       "      <th>Date of Travel</th>\n",
       "      <th>Sex</th>\n",
       "      <th>Age</th>\n",
       "      <th>...</th>\n",
       "      <th>Cost_cleaned</th>\n",
       "      <th>Time_cleaned</th>\n",
       "      <th>Trip_Grade_cleaned</th>\n",
       "      <th>Max_Altitude_cleaned</th>\n",
       "      <th>Accomodation/Hotel_type</th>\n",
       "      <th>Best_travel_time_1</th>\n",
       "      <th>Best_travel_time_2</th>\n",
       "      <th>travel_date</th>\n",
       "      <th>Employment_type</th>\n",
       "      <th>year</th>\n",
       "    </tr>\n",
       "  </thead>\n",
       "  <tbody>\n",
       "    <tr>\n",
       "      <th>0</th>\n",
       "      <td>Everest Base Camp Trek</td>\n",
       "      <td>\\n$1,420     USD</td>\n",
       "      <td>16 Days</td>\n",
       "      <td>Moderate</td>\n",
       "      <td>5545 m</td>\n",
       "      <td>Hotel/Guesthouse</td>\n",
       "      <td>March - May &amp; Sept - Dec</td>\n",
       "      <td>9/13/2022</td>\n",
       "      <td>Non-Binary</td>\n",
       "      <td>31</td>\n",
       "      <td>...</td>\n",
       "      <td>1420</td>\n",
       "      <td>16</td>\n",
       "      <td>2</td>\n",
       "      <td>5545</td>\n",
       "      <td>Guesthouse</td>\n",
       "      <td>March - May</td>\n",
       "      <td>Sept - Dec</td>\n",
       "      <td>2022-09-13</td>\n",
       "      <td>Government Sector</td>\n",
       "      <td>2022</td>\n",
       "    </tr>\n",
       "    <tr>\n",
       "      <th>1</th>\n",
       "      <td>Everest Base Camp Short Trek</td>\n",
       "      <td>\\n$1,295     USD</td>\n",
       "      <td>14 Days</td>\n",
       "      <td>Moderate</td>\n",
       "      <td>5545 m</td>\n",
       "      <td>Hotel/Guesthouse</td>\n",
       "      <td>March - May &amp; Sept - Dec</td>\n",
       "      <td>9/4/2021</td>\n",
       "      <td>Female</td>\n",
       "      <td>31</td>\n",
       "      <td>...</td>\n",
       "      <td>1295</td>\n",
       "      <td>14</td>\n",
       "      <td>2</td>\n",
       "      <td>5545</td>\n",
       "      <td>Guesthouse</td>\n",
       "      <td>March - May</td>\n",
       "      <td>Sept - Dec</td>\n",
       "      <td>2021-09-04</td>\n",
       "      <td>Private Sector</td>\n",
       "      <td>2021</td>\n",
       "    </tr>\n",
       "    <tr>\n",
       "      <th>2</th>\n",
       "      <td>Everest Base Camp Heli Shuttle Trek</td>\n",
       "      <td>\\n$2000 USD</td>\n",
       "      <td>12 Days</td>\n",
       "      <td>Moderate</td>\n",
       "      <td>5545 m</td>\n",
       "      <td>Hotel/Guesthouse</td>\n",
       "      <td>March - May &amp; Sept - Dec</td>\n",
       "      <td>1/25/2021</td>\n",
       "      <td>Female</td>\n",
       "      <td>34</td>\n",
       "      <td>...</td>\n",
       "      <td>2000</td>\n",
       "      <td>12</td>\n",
       "      <td>2</td>\n",
       "      <td>5545</td>\n",
       "      <td>Guesthouse</td>\n",
       "      <td>March - May</td>\n",
       "      <td>Sept - Dec</td>\n",
       "      <td>2021-01-25</td>\n",
       "      <td>Private Sector</td>\n",
       "      <td>2021</td>\n",
       "    </tr>\n",
       "    <tr>\n",
       "      <th>3</th>\n",
       "      <td>Everest Base Camp Heli Trek</td>\n",
       "      <td>\\n$3,300     USD</td>\n",
       "      <td>11 Days</td>\n",
       "      <td>Moderate</td>\n",
       "      <td>5545 m</td>\n",
       "      <td>Hotel/Guesthouse</td>\n",
       "      <td>March - May &amp; Sept - Dec</td>\n",
       "      <td>1/28/2022</td>\n",
       "      <td>Non-Binary</td>\n",
       "      <td>28</td>\n",
       "      <td>...</td>\n",
       "      <td>3300</td>\n",
       "      <td>11</td>\n",
       "      <td>2</td>\n",
       "      <td>5545</td>\n",
       "      <td>Guesthouse</td>\n",
       "      <td>March - May</td>\n",
       "      <td>Sept - Dec</td>\n",
       "      <td>2022-01-28</td>\n",
       "      <td>Private Sector</td>\n",
       "      <td>2022</td>\n",
       "    </tr>\n",
       "    <tr>\n",
       "      <th>4</th>\n",
       "      <td>Everest Base Camp Trek for Seniors</td>\n",
       "      <td>\\n$1,800     USD</td>\n",
       "      <td>20 Days</td>\n",
       "      <td>Moderate</td>\n",
       "      <td>5545 m</td>\n",
       "      <td>Hotel/Guesthouse</td>\n",
       "      <td>March - May &amp; Sept - Dec</td>\n",
       "      <td>10/21/2021</td>\n",
       "      <td>Non-Binary</td>\n",
       "      <td>28</td>\n",
       "      <td>...</td>\n",
       "      <td>1800</td>\n",
       "      <td>20</td>\n",
       "      <td>2</td>\n",
       "      <td>5545</td>\n",
       "      <td>Guesthouse</td>\n",
       "      <td>March - May</td>\n",
       "      <td>Sept - Dec</td>\n",
       "      <td>2021-10-21</td>\n",
       "      <td>Private Sector</td>\n",
       "      <td>2021</td>\n",
       "    </tr>\n",
       "  </tbody>\n",
       "</table>\n",
       "<p>5 rows × 31 columns</p>\n",
       "</div>"
      ],
      "text/plain": [
       "                                  Trek              Cost      Time Trip Grade  \\\n",
       "0               Everest Base Camp Trek  \\n$1,420     USD   16 Days   Moderate   \n",
       "1         Everest Base Camp Short Trek  \\n$1,295     USD   14 Days   Moderate   \n",
       "2  Everest Base Camp Heli Shuttle Trek       \\n$2000 USD   12 Days   Moderate   \n",
       "3          Everest Base Camp Heli Trek  \\n$3,300     USD   11 Days   Moderate   \n",
       "4   Everest Base Camp Trek for Seniors  \\n$1,800     USD   20 Days   Moderate   \n",
       "\n",
       "  Max Altitude      Accomodation          Best Travel Time Date of Travel  \\\n",
       "0       5545 m  Hotel/Guesthouse  March - May & Sept - Dec      9/13/2022   \n",
       "1       5545 m  Hotel/Guesthouse  March - May & Sept - Dec       9/4/2021   \n",
       "2       5545 m  Hotel/Guesthouse  March - May & Sept - Dec      1/25/2021   \n",
       "3       5545 m  Hotel/Guesthouse  March - May & Sept - Dec      1/28/2022   \n",
       "4       5545 m  Hotel/Guesthouse  March - May & Sept - Dec     10/21/2021   \n",
       "\n",
       "          Sex  Age  ... Cost_cleaned  Time_cleaned Trip_Grade_cleaned  \\\n",
       "0  Non-Binary   31  ...         1420            16                  2   \n",
       "1      Female   31  ...         1295            14                  2   \n",
       "2      Female   34  ...         2000            12                  2   \n",
       "3  Non-Binary   28  ...         3300            11                  2   \n",
       "4  Non-Binary   28  ...         1800            20                  2   \n",
       "\n",
       "  Max_Altitude_cleaned  Accomodation/Hotel_type Best_travel_time_1  \\\n",
       "0                 5545               Guesthouse       March - May    \n",
       "1                 5545               Guesthouse       March - May    \n",
       "2                 5545               Guesthouse       March - May    \n",
       "3                 5545               Guesthouse       March - May    \n",
       "4                 5545               Guesthouse       March - May    \n",
       "\n",
       "  Best_travel_time_2 travel_date    Employment_type  year  \n",
       "0         Sept - Dec  2022-09-13  Government Sector  2022  \n",
       "1         Sept - Dec  2021-09-04     Private Sector  2021  \n",
       "2         Sept - Dec  2021-01-25     Private Sector  2021  \n",
       "3         Sept - Dec  2022-01-28     Private Sector  2022  \n",
       "4         Sept - Dec  2021-10-21     Private Sector  2021  \n",
       "\n",
       "[5 rows x 31 columns]"
      ]
     },
     "execution_count": 57,
     "metadata": {},
     "output_type": "execute_result"
    }
   ],
   "source": [
    "df.head()"
   ]
  },
  {
   "cell_type": "markdown",
   "id": "5684a872-b1fd-453a-aa78-994a47e55120",
   "metadata": {},
   "source": [
    "Fitness Level"
   ]
  },
  {
   "cell_type": "code",
   "execution_count": 58,
   "id": "4102edf5-5172-4e26-9a87-06e1f9134d0f",
   "metadata": {},
   "outputs": [
    {
     "data": {
      "text/plain": [
       "array(['Intermediate', nan, 'Advanced', 'Beginner'], dtype=object)"
      ]
     },
     "execution_count": 58,
     "metadata": {},
     "output_type": "execute_result"
    }
   ],
   "source": [
    "df['Fitness Level'].unique()"
   ]
  },
  {
   "cell_type": "code",
   "execution_count": 59,
   "id": "f32a3f05-3939-4193-8366-c21d8776999b",
   "metadata": {},
   "outputs": [],
   "source": [
    "df['fitness_level_cleaned']= df['Fitness Level'].fillna('Beginner')"
   ]
  },
  {
   "cell_type": "code",
   "execution_count": 60,
   "id": "6da96ceb-8838-4b6a-81cc-94427ec47d97",
   "metadata": {},
   "outputs": [
    {
     "data": {
      "text/plain": [
       "array(['Intermediate', 'Beginner', 'Advanced'], dtype=object)"
      ]
     },
     "execution_count": 60,
     "metadata": {},
     "output_type": "execute_result"
    }
   ],
   "source": [
    "df['fitness_level_cleaned'].unique()"
   ]
  },
  {
   "cell_type": "code",
   "execution_count": 61,
   "id": "b2ec4521-5ecb-4a18-a1bf-df61314acd05",
   "metadata": {},
   "outputs": [],
   "source": [
    "fitness={'Beginner':1, 'Intermediate':2, 'Advanced':3}\n",
    "df['fitness_level_cleaned']=df['fitness_level_cleaned'].map(fitness)"
   ]
  },
  {
   "cell_type": "code",
   "execution_count": 62,
   "id": "a7c29e25-1536-4884-ae99-15482eb252f5",
   "metadata": {},
   "outputs": [
    {
     "data": {
      "text/plain": [
       "array([2, 1, 3])"
      ]
     },
     "execution_count": 62,
     "metadata": {},
     "output_type": "execute_result"
    }
   ],
   "source": [
    "df['fitness_level_cleaned'].unique()"
   ]
  },
  {
   "cell_type": "code",
   "execution_count": 63,
   "id": "f3027482-444b-45bc-b031-ebff18001cd8",
   "metadata": {},
   "outputs": [
    {
     "data": {
      "text/plain": [
       "dtype('int64')"
      ]
     },
     "execution_count": 63,
     "metadata": {},
     "output_type": "execute_result"
    }
   ],
   "source": [
    "df['fitness_level_cleaned'].dtype"
   ]
  },
  {
   "cell_type": "markdown",
   "id": "11a58188-2778-466b-8995-016bdf4e6565",
   "metadata": {},
   "source": [
    "Trekking Group size"
   ]
  },
  {
   "cell_type": "code",
   "execution_count": 64,
   "id": "1e96c8f2-6081-4183-b7f5-b55874a771d9",
   "metadata": {},
   "outputs": [],
   "source": [
    "def calculate_mean_without_outliers(df, column_name):\n",
    "\n",
    "    # Step 1: Calculate the IQR to find outliers\n",
    "    Q1 = df[column_name].quantile(0.25)\n",
    "    Q3 = df[column_name].quantile(0.75)\n",
    "    IQR = Q3 - Q1\n",
    "\n",
    "    # Define the lower and upper bounds for outliers\n",
    "    lower_bound = Q1 - 1.5 * IQR\n",
    "    upper_bound = Q3 + 1.5 * IQR\n",
    "\n",
    "    # Step 2: Filter out outliers\n",
    "    filtered_df = df[(df[column_name] >= lower_bound) & (df[column_name] <= upper_bound)]\n",
    "\n",
    "    # Step 3: Calculate the mean without outliers\n",
    "    mean_without_outliers = filtered_df[column_name].mean()\n",
    "\n",
    "    return mean_without_outliers\n"
   ]
  },
  {
   "cell_type": "code",
   "execution_count": 65,
   "id": "1050900d-e770-43a5-9021-620d4a01788c",
   "metadata": {},
   "outputs": [],
   "source": [
    "# Step 4: Using the function to get the mean without outliers\n",
    "mean_without_outliers = calculate_mean_without_outliers(df, 'Trekking Group Size')"
   ]
  },
  {
   "cell_type": "code",
   "execution_count": 66,
   "id": "22f78be9-1d71-4d86-bac9-0223189742fe",
   "metadata": {
    "scrolled": true
   },
   "outputs": [],
   "source": [
    "df['trekkig_group_size']= df['Trekking Group Size'].fillna(mean_without_outliers)"
   ]
  },
  {
   "cell_type": "code",
   "execution_count": 67,
   "id": "242ca43b-485f-437b-9f1e-71ab9d7e4d99",
   "metadata": {},
   "outputs": [
    {
     "data": {
      "text/plain": [
       "dtype('float64')"
      ]
     },
     "execution_count": 67,
     "metadata": {},
     "output_type": "execute_result"
    }
   ],
   "source": [
    "df['trekkig_group_size'].dtype"
   ]
  },
  {
   "cell_type": "code",
   "execution_count": 68,
   "id": "8a0040dc-8980-4d66-8204-426082d8e26b",
   "metadata": {},
   "outputs": [],
   "source": [
    "df['trekkig_group_size']=df['trekkig_group_size'].astype(int)"
   ]
  },
  {
   "cell_type": "code",
   "execution_count": 69,
   "id": "68d17468-61d4-4693-8fa0-7b4cb0672bb3",
   "metadata": {},
   "outputs": [
    {
     "data": {
      "text/plain": [
       "dtype('int64')"
      ]
     },
     "execution_count": 69,
     "metadata": {},
     "output_type": "execute_result"
    }
   ],
   "source": [
    "df['trekkig_group_size'].dtype"
   ]
  },
  {
   "cell_type": "markdown",
   "id": "29317403-4832-4256-aa1c-5986a0cb8a80",
   "metadata": {},
   "source": [
    "Guide/ No guide"
   ]
  },
  {
   "cell_type": "code",
   "execution_count": 70,
   "id": "c831df68-4dd9-48be-8bf2-f3a93e9aeeb4",
   "metadata": {},
   "outputs": [
    {
     "data": {
      "text/plain": [
       "array(['Guide', nan, 'No Guide'], dtype=object)"
      ]
     },
     "execution_count": 70,
     "metadata": {},
     "output_type": "execute_result"
    }
   ],
   "source": [
    "df['Guide/No Guide'].unique()"
   ]
  },
  {
   "cell_type": "code",
   "execution_count": 71,
   "id": "914e1a42-135e-4fe1-905f-4c0e873ff5e2",
   "metadata": {},
   "outputs": [],
   "source": [
    "df['Guide_or_no_guide']= df['Guide/No Guide'].fillna('No Guide')"
   ]
  },
  {
   "cell_type": "code",
   "execution_count": 72,
   "id": "965152e5-242f-4525-93c4-78b83054b388",
   "metadata": {},
   "outputs": [
    {
     "data": {
      "text/plain": [
       "array(['Guide', 'No Guide'], dtype=object)"
      ]
     },
     "execution_count": 72,
     "metadata": {},
     "output_type": "execute_result"
    }
   ],
   "source": [
    "df['Guide_or_no_guide'].unique()"
   ]
  },
  {
   "cell_type": "code",
   "execution_count": 73,
   "id": "077ee885-6db7-40e6-802a-13a005686f59",
   "metadata": {},
   "outputs": [
    {
     "data": {
      "text/plain": [
       "dtype('O')"
      ]
     },
     "execution_count": 73,
     "metadata": {},
     "output_type": "execute_result"
    }
   ],
   "source": [
    "df['Guide_or_no_guide'].dtype"
   ]
  },
  {
   "cell_type": "code",
   "execution_count": 74,
   "id": "62d9a4c2-1a03-467b-af5b-1491eeca1e71",
   "metadata": {},
   "outputs": [
    {
     "name": "stdout",
     "output_type": "stream",
     "text": [
      "object\n"
     ]
    }
   ],
   "source": [
    "df['Guide_or_no_guide']=df['Guide_or_no_guide'].astype(str)\n",
    "print(df['Guide_or_no_guide'].dtype)"
   ]
  },
  {
   "cell_type": "raw",
   "id": "9b1f5fc1-9276-4613-b2c7-3a12b35fd3d7",
   "metadata": {},
   "source": [
    "In Pandas, the object data type is how strings are stored internally. So, when you change a column to str using .astype(str), the underlying data type will still be shown as object. This is because object is the general dtype used for stdf_cleanedng strings, and there's no specific str dtype in Pandas."
   ]
  },
  {
   "cell_type": "code",
   "execution_count": 75,
   "id": "e86b1235-2448-42c3-9814-a6ff056f2521",
   "metadata": {},
   "outputs": [
    {
     "data": {
      "text/html": [
       "<div>\n",
       "<style scoped>\n",
       "    .dataframe tbody tr th:only-of-type {\n",
       "        vertical-align: middle;\n",
       "    }\n",
       "\n",
       "    .dataframe tbody tr th {\n",
       "        vertical-align: top;\n",
       "    }\n",
       "\n",
       "    .dataframe thead th {\n",
       "        text-align: right;\n",
       "    }\n",
       "</style>\n",
       "<table border=\"1\" class=\"dataframe\">\n",
       "  <thead>\n",
       "    <tr style=\"text-align: right;\">\n",
       "      <th></th>\n",
       "      <th>Trek</th>\n",
       "      <th>Cost</th>\n",
       "      <th>Time</th>\n",
       "      <th>Trip Grade</th>\n",
       "      <th>Max Altitude</th>\n",
       "      <th>Accomodation</th>\n",
       "      <th>Best Travel Time</th>\n",
       "      <th>Date of Travel</th>\n",
       "      <th>Sex</th>\n",
       "      <th>Age</th>\n",
       "      <th>...</th>\n",
       "      <th>Max_Altitude_cleaned</th>\n",
       "      <th>Accomodation/Hotel_type</th>\n",
       "      <th>Best_travel_time_1</th>\n",
       "      <th>Best_travel_time_2</th>\n",
       "      <th>travel_date</th>\n",
       "      <th>Employment_type</th>\n",
       "      <th>year</th>\n",
       "      <th>fitness_level_cleaned</th>\n",
       "      <th>trekkig_group_size</th>\n",
       "      <th>Guide_or_no_guide</th>\n",
       "    </tr>\n",
       "  </thead>\n",
       "  <tbody>\n",
       "    <tr>\n",
       "      <th>0</th>\n",
       "      <td>Everest Base Camp Trek</td>\n",
       "      <td>\\n$1,420     USD</td>\n",
       "      <td>16 Days</td>\n",
       "      <td>Moderate</td>\n",
       "      <td>5545 m</td>\n",
       "      <td>Hotel/Guesthouse</td>\n",
       "      <td>March - May &amp; Sept - Dec</td>\n",
       "      <td>9/13/2022</td>\n",
       "      <td>Non-Binary</td>\n",
       "      <td>31</td>\n",
       "      <td>...</td>\n",
       "      <td>5545</td>\n",
       "      <td>Guesthouse</td>\n",
       "      <td>March - May</td>\n",
       "      <td>Sept - Dec</td>\n",
       "      <td>2022-09-13</td>\n",
       "      <td>Government Sector</td>\n",
       "      <td>2022</td>\n",
       "      <td>2</td>\n",
       "      <td>10</td>\n",
       "      <td>Guide</td>\n",
       "    </tr>\n",
       "    <tr>\n",
       "      <th>1</th>\n",
       "      <td>Everest Base Camp Short Trek</td>\n",
       "      <td>\\n$1,295     USD</td>\n",
       "      <td>14 Days</td>\n",
       "      <td>Moderate</td>\n",
       "      <td>5545 m</td>\n",
       "      <td>Hotel/Guesthouse</td>\n",
       "      <td>March - May &amp; Sept - Dec</td>\n",
       "      <td>9/4/2021</td>\n",
       "      <td>Female</td>\n",
       "      <td>31</td>\n",
       "      <td>...</td>\n",
       "      <td>5545</td>\n",
       "      <td>Guesthouse</td>\n",
       "      <td>March - May</td>\n",
       "      <td>Sept - Dec</td>\n",
       "      <td>2021-09-04</td>\n",
       "      <td>Private Sector</td>\n",
       "      <td>2021</td>\n",
       "      <td>1</td>\n",
       "      <td>8</td>\n",
       "      <td>No Guide</td>\n",
       "    </tr>\n",
       "    <tr>\n",
       "      <th>2</th>\n",
       "      <td>Everest Base Camp Heli Shuttle Trek</td>\n",
       "      <td>\\n$2000 USD</td>\n",
       "      <td>12 Days</td>\n",
       "      <td>Moderate</td>\n",
       "      <td>5545 m</td>\n",
       "      <td>Hotel/Guesthouse</td>\n",
       "      <td>March - May &amp; Sept - Dec</td>\n",
       "      <td>1/25/2021</td>\n",
       "      <td>Female</td>\n",
       "      <td>34</td>\n",
       "      <td>...</td>\n",
       "      <td>5545</td>\n",
       "      <td>Guesthouse</td>\n",
       "      <td>March - May</td>\n",
       "      <td>Sept - Dec</td>\n",
       "      <td>2021-01-25</td>\n",
       "      <td>Private Sector</td>\n",
       "      <td>2021</td>\n",
       "      <td>3</td>\n",
       "      <td>12</td>\n",
       "      <td>Guide</td>\n",
       "    </tr>\n",
       "    <tr>\n",
       "      <th>3</th>\n",
       "      <td>Everest Base Camp Heli Trek</td>\n",
       "      <td>\\n$3,300     USD</td>\n",
       "      <td>11 Days</td>\n",
       "      <td>Moderate</td>\n",
       "      <td>5545 m</td>\n",
       "      <td>Hotel/Guesthouse</td>\n",
       "      <td>March - May &amp; Sept - Dec</td>\n",
       "      <td>1/28/2022</td>\n",
       "      <td>Non-Binary</td>\n",
       "      <td>28</td>\n",
       "      <td>...</td>\n",
       "      <td>5545</td>\n",
       "      <td>Guesthouse</td>\n",
       "      <td>March - May</td>\n",
       "      <td>Sept - Dec</td>\n",
       "      <td>2022-01-28</td>\n",
       "      <td>Private Sector</td>\n",
       "      <td>2022</td>\n",
       "      <td>2</td>\n",
       "      <td>5</td>\n",
       "      <td>Guide</td>\n",
       "    </tr>\n",
       "    <tr>\n",
       "      <th>4</th>\n",
       "      <td>Everest Base Camp Trek for Seniors</td>\n",
       "      <td>\\n$1,800     USD</td>\n",
       "      <td>20 Days</td>\n",
       "      <td>Moderate</td>\n",
       "      <td>5545 m</td>\n",
       "      <td>Hotel/Guesthouse</td>\n",
       "      <td>March - May &amp; Sept - Dec</td>\n",
       "      <td>10/21/2021</td>\n",
       "      <td>Non-Binary</td>\n",
       "      <td>28</td>\n",
       "      <td>...</td>\n",
       "      <td>5545</td>\n",
       "      <td>Guesthouse</td>\n",
       "      <td>March - May</td>\n",
       "      <td>Sept - Dec</td>\n",
       "      <td>2021-10-21</td>\n",
       "      <td>Private Sector</td>\n",
       "      <td>2021</td>\n",
       "      <td>1</td>\n",
       "      <td>6</td>\n",
       "      <td>No Guide</td>\n",
       "    </tr>\n",
       "  </tbody>\n",
       "</table>\n",
       "<p>5 rows × 34 columns</p>\n",
       "</div>"
      ],
      "text/plain": [
       "                                  Trek              Cost      Time Trip Grade  \\\n",
       "0               Everest Base Camp Trek  \\n$1,420     USD   16 Days   Moderate   \n",
       "1         Everest Base Camp Short Trek  \\n$1,295     USD   14 Days   Moderate   \n",
       "2  Everest Base Camp Heli Shuttle Trek       \\n$2000 USD   12 Days   Moderate   \n",
       "3          Everest Base Camp Heli Trek  \\n$3,300     USD   11 Days   Moderate   \n",
       "4   Everest Base Camp Trek for Seniors  \\n$1,800     USD   20 Days   Moderate   \n",
       "\n",
       "  Max Altitude      Accomodation          Best Travel Time Date of Travel  \\\n",
       "0       5545 m  Hotel/Guesthouse  March - May & Sept - Dec      9/13/2022   \n",
       "1       5545 m  Hotel/Guesthouse  March - May & Sept - Dec       9/4/2021   \n",
       "2       5545 m  Hotel/Guesthouse  March - May & Sept - Dec      1/25/2021   \n",
       "3       5545 m  Hotel/Guesthouse  March - May & Sept - Dec      1/28/2022   \n",
       "4       5545 m  Hotel/Guesthouse  March - May & Sept - Dec     10/21/2021   \n",
       "\n",
       "          Sex  Age  ... Max_Altitude_cleaned  Accomodation/Hotel_type  \\\n",
       "0  Non-Binary   31  ...                 5545               Guesthouse   \n",
       "1      Female   31  ...                 5545               Guesthouse   \n",
       "2      Female   34  ...                 5545               Guesthouse   \n",
       "3  Non-Binary   28  ...                 5545               Guesthouse   \n",
       "4  Non-Binary   28  ...                 5545               Guesthouse   \n",
       "\n",
       "  Best_travel_time_1 Best_travel_time_2  travel_date    Employment_type  year  \\\n",
       "0       March - May          Sept - Dec   2022-09-13  Government Sector  2022   \n",
       "1       March - May          Sept - Dec   2021-09-04     Private Sector  2021   \n",
       "2       March - May          Sept - Dec   2021-01-25     Private Sector  2021   \n",
       "3       March - May          Sept - Dec   2022-01-28     Private Sector  2022   \n",
       "4       March - May          Sept - Dec   2021-10-21     Private Sector  2021   \n",
       "\n",
       "  fitness_level_cleaned trekkig_group_size  Guide_or_no_guide  \n",
       "0                     2                 10              Guide  \n",
       "1                     1                  8           No Guide  \n",
       "2                     3                 12              Guide  \n",
       "3                     2                  5              Guide  \n",
       "4                     1                  6           No Guide  \n",
       "\n",
       "[5 rows x 34 columns]"
      ]
     },
     "execution_count": 75,
     "metadata": {},
     "output_type": "execute_result"
    }
   ],
   "source": [
    "df.head()"
   ]
  },
  {
   "cell_type": "markdown",
   "id": "a3a99fdc-7e26-434d-92d0-ecc2ae61deea",
   "metadata": {},
   "source": [
    "Equipment Used"
   ]
  },
  {
   "cell_type": "code",
   "execution_count": 76,
   "id": "5e8484a1-e8b4-4596-acb3-06d53e7e4968",
   "metadata": {},
   "outputs": [
    {
     "data": {
      "text/plain": [
       "array(['Poles', nan, 'Oxygen'], dtype=object)"
      ]
     },
     "execution_count": 76,
     "metadata": {},
     "output_type": "execute_result"
    }
   ],
   "source": [
    "df['Equipment Used'].unique()"
   ]
  },
  {
   "cell_type": "code",
   "execution_count": 77,
   "id": "6b20c4b3-341a-44b6-9a9a-c1a0d119ad07",
   "metadata": {},
   "outputs": [],
   "source": [
    "df['Equipment_used']= df['Equipment Used'].fillna('No')"
   ]
  },
  {
   "cell_type": "code",
   "execution_count": 78,
   "id": "b953973e-c7f3-4cd6-9100-33b992dd6a24",
   "metadata": {},
   "outputs": [
    {
     "data": {
      "text/plain": [
       "array(['Poles', 'No', 'Oxygen'], dtype=object)"
      ]
     },
     "execution_count": 78,
     "metadata": {},
     "output_type": "execute_result"
    }
   ],
   "source": [
    "df['Equipment_used'].unique()"
   ]
  },
  {
   "cell_type": "markdown",
   "id": "a60ca108-5627-43e3-98bd-5014dc967c39",
   "metadata": {},
   "source": [
    "Purpose of travel"
   ]
  },
  {
   "cell_type": "code",
   "execution_count": 79,
   "id": "7695da63-7bd3-4b10-b54d-f5e331d7e363",
   "metadata": {},
   "outputs": [
    {
     "data": {
      "text/plain": [
       "array(['Leisure', nan, 'Charity', 'Adventure'], dtype=object)"
      ]
     },
     "execution_count": 79,
     "metadata": {},
     "output_type": "execute_result"
    }
   ],
   "source": [
    "df['Purpose of Travel'].unique()"
   ]
  },
  {
   "cell_type": "code",
   "execution_count": 80,
   "id": "4d09feda-3d4e-426d-8da1-01d598f079f3",
   "metadata": {},
   "outputs": [
    {
     "data": {
      "text/plain": [
       "Purpose of Travel\n",
       "Adventure    138\n",
       "Leisure      134\n",
       "Charity       73\n",
       "Name: count, dtype: int64"
      ]
     },
     "execution_count": 80,
     "metadata": {},
     "output_type": "execute_result"
    }
   ],
   "source": [
    "df['Purpose of Travel'].value_counts()"
   ]
  },
  {
   "cell_type": "raw",
   "id": "2b9bf1f6-3e83-4964-bd1e-6dfc66cf49a0",
   "metadata": {},
   "source": [
    "Since the majdf_cleanedty are Adventure, we will fill the null values with the majdf_cleanedty value"
   ]
  },
  {
   "cell_type": "code",
   "execution_count": 81,
   "id": "d2153b62-aa84-416c-8199-7ae106bee5fb",
   "metadata": {},
   "outputs": [],
   "source": [
    "df['Purpose_of_travel']= df['Purpose of Travel'].fillna('Adventure')"
   ]
  },
  {
   "cell_type": "code",
   "execution_count": 82,
   "id": "4dd3d903-19bf-4c1b-8ee7-1cb456e2b637",
   "metadata": {},
   "outputs": [
    {
     "data": {
      "text/plain": [
       "array(['Leisure', 'Adventure', 'Charity'], dtype=object)"
      ]
     },
     "execution_count": 82,
     "metadata": {},
     "output_type": "execute_result"
    }
   ],
   "source": [
    "df['Purpose_of_travel'].unique()"
   ]
  },
  {
   "cell_type": "markdown",
   "id": "a5d6bc36-b57c-4d3e-994d-4eb3f16cead2",
   "metadata": {},
   "source": [
    "Health Incidents"
   ]
  },
  {
   "cell_type": "code",
   "execution_count": 83,
   "id": "ce8346ef-1df5-47e4-8511-2a77fbb6a45f",
   "metadata": {},
   "outputs": [
    {
     "data": {
      "text/plain": [
       "array([nan, 'Minor Injury', 'Altitude Sickness'], dtype=object)"
      ]
     },
     "execution_count": 83,
     "metadata": {},
     "output_type": "execute_result"
    }
   ],
   "source": [
    "df['Health Incidents'].unique()"
   ]
  },
  {
   "cell_type": "code",
   "execution_count": 84,
   "id": "de009317-a51d-4452-9b16-fa228227d5f3",
   "metadata": {},
   "outputs": [],
   "source": [
    "df['Health_incidents']= df['Health Incidents'].fillna('No')"
   ]
  },
  {
   "cell_type": "code",
   "execution_count": 85,
   "id": "b80cf340-0274-4b93-91ec-7fb118ce3941",
   "metadata": {},
   "outputs": [
    {
     "data": {
      "text/plain": [
       "array(['No', 'Minor Injury', 'Altitude Sickness'], dtype=object)"
      ]
     },
     "execution_count": 85,
     "metadata": {},
     "output_type": "execute_result"
    }
   ],
   "source": [
    "df['Health_incidents'].unique()"
   ]
  },
  {
   "cell_type": "markdown",
   "id": "20e11e3e-619c-4f20-954b-7354e08f5807",
   "metadata": {},
   "source": [
    "Review/ Satisfaction"
   ]
  },
  {
   "cell_type": "code",
   "execution_count": 86,
   "id": "e1da22a8-9651-481a-92e4-e98aa760491f",
   "metadata": {},
   "outputs": [
    {
     "data": {
      "text/plain": [
       "array([4.5, nan, 5. , 4. , 3.5, 3. ])"
      ]
     },
     "execution_count": 86,
     "metadata": {},
     "output_type": "execute_result"
    }
   ],
   "source": [
    " df['Review/Satisfaction'].unique()"
   ]
  },
  {
   "cell_type": "code",
   "execution_count": 87,
   "id": "265c5552-1896-4d80-8d27-6ae248386a51",
   "metadata": {},
   "outputs": [],
   "source": [
    "df['Rating']= df['Review/Satisfaction'].fillna(df['Review/Satisfaction'].mean())"
   ]
  },
  {
   "cell_type": "code",
   "execution_count": 88,
   "id": "5a729556-d8b4-4ba5-b516-c66b7ae0fbac",
   "metadata": {},
   "outputs": [
    {
     "data": {
      "text/plain": [
       "array([4.5       , 4.01014493, 5.        , 4.        , 3.5       ,\n",
       "       3.        ])"
      ]
     },
     "execution_count": 88,
     "metadata": {},
     "output_type": "execute_result"
    }
   ],
   "source": [
    " df['Rating'].unique()"
   ]
  },
  {
   "cell_type": "code",
   "execution_count": 89,
   "id": "5b1cdaf1-c929-49f0-a33b-da06b690a84c",
   "metadata": {},
   "outputs": [],
   "source": [
    "df['Rating']=df['Rating'].round(1)"
   ]
  },
  {
   "cell_type": "code",
   "execution_count": 90,
   "id": "c32b250e-c185-43d8-97f5-0e515bde7ff0",
   "metadata": {},
   "outputs": [
    {
     "data": {
      "text/plain": [
       "array([4.5, 4. , 5. , 3.5, 3. ])"
      ]
     },
     "execution_count": 90,
     "metadata": {},
     "output_type": "execute_result"
    }
   ],
   "source": [
    " df['Rating'].unique()"
   ]
  },
  {
   "cell_type": "code",
   "execution_count": 91,
   "id": "90e9fd57-bcea-4c38-854c-3e597ef0654c",
   "metadata": {},
   "outputs": [
    {
     "data": {
      "text/plain": [
       "dtype('float64')"
      ]
     },
     "execution_count": 91,
     "metadata": {},
     "output_type": "execute_result"
    }
   ],
   "source": [
    "df['Rating'].dtype"
   ]
  },
  {
   "cell_type": "code",
   "execution_count": 92,
   "id": "ff7bc191-9a51-41d5-82cf-0430c91f1149",
   "metadata": {},
   "outputs": [
    {
     "data": {
      "text/plain": [
       "Index(['Trek', 'Cost', 'Time', 'Trip Grade', 'Max Altitude', 'Accomodation',\n",
       "       'Best Travel Time', 'Date of Travel', 'Sex', 'Age', 'Employment Type',\n",
       "       'AnnualIncome', 'Fitness Level', 'Weather Conditions',\n",
       "       'Trekking Group Size', 'Guide/No Guide', 'Equipment Used',\n",
       "       'Purpose of Travel', 'Health Incidents', 'Review/Satisfaction',\n",
       "       'Trek_cleaned', 'Cost_cleaned', 'Time_cleaned', 'Trip_Grade_cleaned',\n",
       "       'Max_Altitude_cleaned', 'Accomodation/Hotel_type', 'Best_travel_time_1',\n",
       "       'Best_travel_time_2', 'travel_date', 'Employment_type', 'year',\n",
       "       'fitness_level_cleaned', 'trekkig_group_size', 'Guide_or_no_guide',\n",
       "       'Equipment_used', 'Purpose_of_travel', 'Health_incidents', 'Rating'],\n",
       "      dtype='object')"
      ]
     },
     "execution_count": 92,
     "metadata": {},
     "output_type": "execute_result"
    }
   ],
   "source": [
    "df.columns"
   ]
  },
  {
   "cell_type": "markdown",
   "id": "40ab3618-18e5-4349-8f47-e1ae3d771728",
   "metadata": {},
   "source": [
    "EXTRACTING ALL CLEANED COLUMNS INTO A NEW DF AND SAVING THEM IN CSV "
   ]
  },
  {
   "cell_type": "code",
   "execution_count": 93,
   "id": "0fef715e-f905-48f2-b551-9582326b2f05",
   "metadata": {},
   "outputs": [],
   "source": [
    "df_cleaned= df[['Trek_cleaned', 'Cost_cleaned', 'Time_cleaned', 'Trip_Grade_cleaned', 'Weather Conditions',\n",
    "                'Max_Altitude_cleaned','Accomodation/Hotel_type', 'Best_travel_time_1', 'Best_travel_time_2',\n",
    "                'travel_date', 'Employment_type', 'year', 'fitness_level_cleaned',\n",
    "                'trekkig_group_size', 'Guide_or_no_guide', 'Equipment_used',\n",
    "                'Purpose_of_travel', 'Health_incidents', 'Rating','Sex', 'Age']]"
   ]
  },
  {
   "cell_type": "code",
   "execution_count": 94,
   "id": "7902c79a-65bc-45b5-b4a8-954944db5ff1",
   "metadata": {},
   "outputs": [
    {
     "data": {
      "text/html": [
       "<div>\n",
       "<style scoped>\n",
       "    .dataframe tbody tr th:only-of-type {\n",
       "        vertical-align: middle;\n",
       "    }\n",
       "\n",
       "    .dataframe tbody tr th {\n",
       "        vertical-align: top;\n",
       "    }\n",
       "\n",
       "    .dataframe thead th {\n",
       "        text-align: right;\n",
       "    }\n",
       "</style>\n",
       "<table border=\"1\" class=\"dataframe\">\n",
       "  <thead>\n",
       "    <tr style=\"text-align: right;\">\n",
       "      <th></th>\n",
       "      <th>Trek_cleaned</th>\n",
       "      <th>Cost_cleaned</th>\n",
       "      <th>Time_cleaned</th>\n",
       "      <th>Trip_Grade_cleaned</th>\n",
       "      <th>Weather Conditions</th>\n",
       "      <th>Max_Altitude_cleaned</th>\n",
       "      <th>Accomodation/Hotel_type</th>\n",
       "      <th>Best_travel_time_1</th>\n",
       "      <th>Best_travel_time_2</th>\n",
       "      <th>travel_date</th>\n",
       "      <th>...</th>\n",
       "      <th>year</th>\n",
       "      <th>fitness_level_cleaned</th>\n",
       "      <th>trekkig_group_size</th>\n",
       "      <th>Guide_or_no_guide</th>\n",
       "      <th>Equipment_used</th>\n",
       "      <th>Purpose_of_travel</th>\n",
       "      <th>Health_incidents</th>\n",
       "      <th>Rating</th>\n",
       "      <th>Sex</th>\n",
       "      <th>Age</th>\n",
       "    </tr>\n",
       "  </thead>\n",
       "  <tbody>\n",
       "    <tr>\n",
       "      <th>0</th>\n",
       "      <td>Everest Base Camp Trek</td>\n",
       "      <td>1420</td>\n",
       "      <td>16</td>\n",
       "      <td>2</td>\n",
       "      <td>Clear</td>\n",
       "      <td>5545</td>\n",
       "      <td>Guesthouse</td>\n",
       "      <td>March - May</td>\n",
       "      <td>Sept - Dec</td>\n",
       "      <td>2022-09-13</td>\n",
       "      <td>...</td>\n",
       "      <td>2022</td>\n",
       "      <td>2</td>\n",
       "      <td>10</td>\n",
       "      <td>Guide</td>\n",
       "      <td>Poles</td>\n",
       "      <td>Leisure</td>\n",
       "      <td>No</td>\n",
       "      <td>4.5</td>\n",
       "      <td>Non-Binary</td>\n",
       "      <td>31</td>\n",
       "    </tr>\n",
       "    <tr>\n",
       "      <th>1</th>\n",
       "      <td>Everest Base Camp Short Trek</td>\n",
       "      <td>1295</td>\n",
       "      <td>14</td>\n",
       "      <td>2</td>\n",
       "      <td>NaN</td>\n",
       "      <td>5545</td>\n",
       "      <td>Guesthouse</td>\n",
       "      <td>March - May</td>\n",
       "      <td>Sept - Dec</td>\n",
       "      <td>2021-09-04</td>\n",
       "      <td>...</td>\n",
       "      <td>2021</td>\n",
       "      <td>1</td>\n",
       "      <td>8</td>\n",
       "      <td>No Guide</td>\n",
       "      <td>No</td>\n",
       "      <td>Adventure</td>\n",
       "      <td>No</td>\n",
       "      <td>4.0</td>\n",
       "      <td>Female</td>\n",
       "      <td>31</td>\n",
       "    </tr>\n",
       "    <tr>\n",
       "      <th>2</th>\n",
       "      <td>Everest Base Camp Heli Shuttle Trek</td>\n",
       "      <td>2000</td>\n",
       "      <td>12</td>\n",
       "      <td>2</td>\n",
       "      <td>Snowy</td>\n",
       "      <td>5545</td>\n",
       "      <td>Guesthouse</td>\n",
       "      <td>March - May</td>\n",
       "      <td>Sept - Dec</td>\n",
       "      <td>2021-01-25</td>\n",
       "      <td>...</td>\n",
       "      <td>2021</td>\n",
       "      <td>3</td>\n",
       "      <td>12</td>\n",
       "      <td>Guide</td>\n",
       "      <td>Oxygen</td>\n",
       "      <td>Charity</td>\n",
       "      <td>No</td>\n",
       "      <td>5.0</td>\n",
       "      <td>Female</td>\n",
       "      <td>34</td>\n",
       "    </tr>\n",
       "    <tr>\n",
       "      <th>3</th>\n",
       "      <td>Everest Base Camp Heli Trek</td>\n",
       "      <td>3300</td>\n",
       "      <td>11</td>\n",
       "      <td>2</td>\n",
       "      <td>Clear</td>\n",
       "      <td>5545</td>\n",
       "      <td>Guesthouse</td>\n",
       "      <td>March - May</td>\n",
       "      <td>Sept - Dec</td>\n",
       "      <td>2022-01-28</td>\n",
       "      <td>...</td>\n",
       "      <td>2022</td>\n",
       "      <td>2</td>\n",
       "      <td>5</td>\n",
       "      <td>Guide</td>\n",
       "      <td>Poles</td>\n",
       "      <td>Leisure</td>\n",
       "      <td>No</td>\n",
       "      <td>4.0</td>\n",
       "      <td>Non-Binary</td>\n",
       "      <td>28</td>\n",
       "    </tr>\n",
       "    <tr>\n",
       "      <th>4</th>\n",
       "      <td>Everest Base Camp Trek</td>\n",
       "      <td>1800</td>\n",
       "      <td>20</td>\n",
       "      <td>2</td>\n",
       "      <td>Cloudy</td>\n",
       "      <td>5545</td>\n",
       "      <td>Guesthouse</td>\n",
       "      <td>March - May</td>\n",
       "      <td>Sept - Dec</td>\n",
       "      <td>2021-10-21</td>\n",
       "      <td>...</td>\n",
       "      <td>2021</td>\n",
       "      <td>1</td>\n",
       "      <td>6</td>\n",
       "      <td>No Guide</td>\n",
       "      <td>No</td>\n",
       "      <td>Adventure</td>\n",
       "      <td>Minor Injury</td>\n",
       "      <td>3.5</td>\n",
       "      <td>Non-Binary</td>\n",
       "      <td>28</td>\n",
       "    </tr>\n",
       "  </tbody>\n",
       "</table>\n",
       "<p>5 rows × 21 columns</p>\n",
       "</div>"
      ],
      "text/plain": [
       "                          Trek_cleaned  Cost_cleaned  Time_cleaned  \\\n",
       "0               Everest Base Camp Trek          1420            16   \n",
       "1         Everest Base Camp Short Trek          1295            14   \n",
       "2  Everest Base Camp Heli Shuttle Trek          2000            12   \n",
       "3          Everest Base Camp Heli Trek          3300            11   \n",
       "4               Everest Base Camp Trek          1800            20   \n",
       "\n",
       "   Trip_Grade_cleaned Weather Conditions  Max_Altitude_cleaned  \\\n",
       "0                   2              Clear                  5545   \n",
       "1                   2                NaN                  5545   \n",
       "2                   2              Snowy                  5545   \n",
       "3                   2              Clear                  5545   \n",
       "4                   2             Cloudy                  5545   \n",
       "\n",
       "  Accomodation/Hotel_type Best_travel_time_1 Best_travel_time_2 travel_date  \\\n",
       "0              Guesthouse       March - May          Sept - Dec  2022-09-13   \n",
       "1              Guesthouse       March - May          Sept - Dec  2021-09-04   \n",
       "2              Guesthouse       March - May          Sept - Dec  2021-01-25   \n",
       "3              Guesthouse       March - May          Sept - Dec  2022-01-28   \n",
       "4              Guesthouse       March - May          Sept - Dec  2021-10-21   \n",
       "\n",
       "   ...  year  fitness_level_cleaned  trekkig_group_size  Guide_or_no_guide  \\\n",
       "0  ...  2022                      2                  10              Guide   \n",
       "1  ...  2021                      1                   8           No Guide   \n",
       "2  ...  2021                      3                  12              Guide   \n",
       "3  ...  2022                      2                   5              Guide   \n",
       "4  ...  2021                      1                   6           No Guide   \n",
       "\n",
       "  Equipment_used Purpose_of_travel Health_incidents Rating         Sex Age  \n",
       "0          Poles           Leisure               No    4.5  Non-Binary  31  \n",
       "1             No         Adventure               No    4.0      Female  31  \n",
       "2         Oxygen           Charity               No    5.0      Female  34  \n",
       "3          Poles           Leisure               No    4.0  Non-Binary  28  \n",
       "4             No         Adventure     Minor Injury    3.5  Non-Binary  28  \n",
       "\n",
       "[5 rows x 21 columns]"
      ]
     },
     "execution_count": 94,
     "metadata": {},
     "output_type": "execute_result"
    }
   ],
   "source": [
    "df_cleaned.head()"
   ]
  },
  {
   "cell_type": "code",
   "execution_count": 95,
   "id": "569c9639-f1b7-4803-a2ec-d0839b852b3e",
   "metadata": {},
   "outputs": [
    {
     "data": {
      "text/plain": [
       "Trek_cleaned                0\n",
       "Cost_cleaned                0\n",
       "Time_cleaned                0\n",
       "Trip_Grade_cleaned          0\n",
       "Weather Conditions         38\n",
       "Max_Altitude_cleaned        0\n",
       "Accomodation/Hotel_type     0\n",
       "Best_travel_time_1          0\n",
       "Best_travel_time_2          0\n",
       "travel_date                 0\n",
       "Employment_type             0\n",
       "year                        0\n",
       "fitness_level_cleaned       0\n",
       "trekkig_group_size          0\n",
       "Guide_or_no_guide           0\n",
       "Equipment_used              0\n",
       "Purpose_of_travel           0\n",
       "Health_incidents            0\n",
       "Rating                      0\n",
       "Sex                         0\n",
       "Age                         0\n",
       "dtype: int64"
      ]
     },
     "execution_count": 95,
     "metadata": {},
     "output_type": "execute_result"
    }
   ],
   "source": [
    "df_cleaned.isnull().sum()"
   ]
  },
  {
   "cell_type": "markdown",
   "id": "7c33f95a-7be0-4b6f-a0e1-4d14c3b7c983",
   "metadata": {},
   "source": [
    "ADDING DISTRICT OF THE TRAVEL DESTINATION INTO THE DF"
   ]
  },
  {
   "cell_type": "code",
   "execution_count": 96,
   "id": "5e74c643-2e9e-4559-ad96-34077872941f",
   "metadata": {},
   "outputs": [
    {
     "data": {
      "text/plain": [
       "array(['Everest Base Camp Trek', 'Everest Base Camp Short Trek',\n",
       "       'Everest Base Camp Heli Shuttle Trek',\n",
       "       'Everest Base Camp Heli Trek', 'Everest Chola Pass Trek',\n",
       "       'Gokyo Lake Renjo La Pass Trek', 'Everest High Passes Trek',\n",
       "       'Short Everest Trek', 'Everest Panorama Trek', 'Everest View Trek',\n",
       "       'Luxury Everest Base Camp Heli Trek', 'Annapurna Base Camp Trek',\n",
       "       'Annapurna Base Camp Short Trek',\n",
       "       'Instant Annapurna Base Camp Trek',\n",
       "       'Annapurna Base Camp Heli Trek', 'Mardi Himal Trek',\n",
       "       'Classic Annapurna Circuit Trek', 'Annapurna Circuit Trek',\n",
       "       'Annapurna Circuit Short Trek', 'Annapurna Luxury Trek',\n",
       "       'Annapurna Panorama Trek', 'Annapurna Tilicho Lake Trek',\n",
       "       'Short Annapurna Trek', 'Manaslu Circuit Trek',\n",
       "       'Tsum Valley With Manaslu Trek', 'Upper Mustang Trek',\n",
       "       'Upper Mustang Tiji Festival Trek', 'Langtang Valley Trek',\n",
       "       'Langtang Gosaikunda Trek', 'Tamang Heritage Trek',\n",
       "       'Tamang Heritage TrailTrek', 'Helambu Trek',\n",
       "       'Everest Base Camp Luxury Lodge Trek',\n",
       "       'Everest Advanced Base Camp Trek', 'Gokyo Lakes And Gokyo Ri Trek',\n",
       "       'Annapurna Sanctuary Trek', 'Rara Lake Trek',\n",
       "       'Kanchenjunga Circuit Trek', 'Tsum Valley Trek', 'The Royal Trek',\n",
       "       'Makalu Base Camp Trek', 'Langtang, Gosainkunda And Helambu Trek',\n",
       "       'Nar Phu Valley Trek', 'Annapurna Circle Trek',\n",
       "       'Everest Kangshung Face Trek', 'Tsum Valley And Manaslu Trek',\n",
       "       'Khopra Ridge Community Trek', 'Nepal Experience TourTrek',\n",
       "       'Annapurna With Tilicho Lake Trek', 'Manaslu And Annapurna Trek',\n",
       "       'Everest Himalaya Heli TourTrek',\n",
       "       'Nepal Hiking And Culture TourTrek',\n",
       "       'Annapurna Sunrise And Everest View Trek',\n",
       "       'Tenzing Hillary Everest MarathonTrek', 'Everest Kalapathar Trek',\n",
       "       'Gokyo Lake Trek', 'Ghorepani Poon Hill Trek'], dtype=object)"
      ]
     },
     "execution_count": 96,
     "metadata": {},
     "output_type": "execute_result"
    }
   ],
   "source": [
    "df_cleaned['Trek_cleaned'].unique()"
   ]
  },
  {
   "cell_type": "code",
   "execution_count": 97,
   "id": "faed29d1-9df6-4e9f-b9ae-b74302ab3d01",
   "metadata": {},
   "outputs": [],
   "source": [
    "# Trail trek, Tour trek, marathon trek spacing\n",
    "df_cleaned.loc[:, 'Trek_cleaned'] = df_cleaned['Trek_cleaned'].str.replace('TourTrek', 'Tour Trek')\n",
    "df_cleaned.loc[:, 'Trek_cleaned'] = df_cleaned['Trek_cleaned'].str.replace('TrailTrek', 'Trail Trek')\n",
    "df_cleaned.loc[:, 'Trek_cleaned'] = df_cleaned['Trek_cleaned'].str.replace('MarathonTrek', 'Marathon Trek')"
   ]
  },
  {
   "cell_type": "code",
   "execution_count": 98,
   "id": "04acfec5-927a-4c26-94d8-78087918a167",
   "metadata": {},
   "outputs": [],
   "source": [
    "trek_to_district = {\n",
    "    'Everest Base Camp Trek': 'Solukhumbu District',\n",
    "    'Everest Base Camp Short Trek': 'Solukhumbu District',\n",
    "    'Everest Base Camp Heli Shuttle Trek': 'Solukhumbu District',\n",
    "    'Everest Base Camp Heli Trek': 'Solukhumbu District',\n",
    "    'Everest Chola Pass Trek': 'Solukhumbu District',\n",
    "    'Gokyo Lake Renjo La Pass Trek': 'Solukhumbu District',\n",
    "    'Everest High Passes Trek': 'Solukhumbu District',\n",
    "    'Short Everest Trek': 'Solukhumbu District',\n",
    "    'Everest Panorama Trek': 'Solukhumbu District',\n",
    "    'Everest View Trek': 'Solukhumbu District',\n",
    "    'Luxury Everest Base Camp Heli Trek': 'Solukhumbu District',\n",
    "    'Annapurna Base Camp Trek': 'Kaski District',\n",
    "    'Annapurna Base Camp Short Trek': 'Kaski District',\n",
    "    'Instant Annapurna Base Camp Trek': 'Kaski District',\n",
    "    'Annapurna Base Camp Heli Trek': 'Kaski District',\n",
    "    'Mardi Himal Trek': 'Kaski District',\n",
    "    'Classic Annapurna Circuit Trek': 'Manang District',\n",
    "    'Annapurna Circuit Trek': 'Manang District',\n",
    "    'Annapurna Circuit Short Trek': 'Manang District',\n",
    "    'Annapurna Luxury Trek': 'Kaski District',\n",
    "    'Annapurna Panorama Trek': 'Kaski District',\n",
    "    'Annapurna Tilicho Lake Trek': 'Manang District',\n",
    "    'Short Annapurna Trek': 'Kaski District',\n",
    "    'Manaslu Circuit Trek': 'Gorkha District',\n",
    "    'Tsum Valley With Manaslu Trek': 'Gorkha District',\n",
    "    'Upper Mustang Trek': 'Mustang District',\n",
    "    'Upper Mustang Tiji Festival Trek': 'Mustang District',\n",
    "    'Langtang Valley Trek': 'Rasuwa District',\n",
    "    'Langtang Gosaikunda Trek': 'Rasuwa District',\n",
    "    'Tamang Heritage Trek': 'Rasuwa District',\n",
    "    'Tamang Heritage Trail Trek': 'Rasuwa District',\n",
    "    'Helambu Trek': 'Sindhupalchok District',\n",
    "    'Everest Base Camp Luxury Lodge Trek': 'Solukhumbu District',\n",
    "    'Everest Advanced Base Camp Trek': 'Solukhumbu District',\n",
    "    'Gokyo Lakes And Gokyo Ri Trek': 'Solukhumbu District',\n",
    "    'Annapurna Sanctuary Trek': 'Kaski District',\n",
    "    'Rara Lake Trek': 'Mugu District',\n",
    "    'Kanchenjunga Circuit Trek': 'Taplejung District',\n",
    "    'Tsum Valley Trek': 'Gorkha District',\n",
    "    'The Royal Trek': 'Kaski District',\n",
    "    'Makalu Base Camp Trek': 'Makalu District',\n",
    "    'Langtang, Gosainkunda And Helambu Trek': 'Rasuwa District',\n",
    "    'Nar Phu Valley Trek': 'Manang District',\n",
    "    'Annapurna Circle Trek': 'Manang District',\n",
    "    'Everest Kangshung Face Trek': 'Solukhumbu District',\n",
    "    'Tsum Valley And Manaslu Trek': 'Gorkha District',\n",
    "    'Khopra Ridge Community Trek': 'Kaski District',\n",
    "    'Nepal Experience Tour Trek': 'Various',\n",
    "    'Annapurna With Tilicho Lake Trek': 'Manang District',\n",
    "    'Nepal Hiking And Culture Tour Trek': 'Various',\n",
    "    'Annapurna Sunrise And Everest View Trek': 'Kaski District',\n",
    "    'Tenzing Hillary Everest Marathon Trek': 'Solukhumbu District',\n",
    "    'Everest Kalapathar Trek': 'Solukhumbu District',\n",
    "    'Gokyo Lake Trek': 'Solukhumbu District',\n",
    "    'Ghorepani Poon Hill Trek': 'Myagdi District',\n",
    "    'Manaslu And Annapurna Trek': 'Gorkha District',\n",
    "    'Everest Himalaya Heli Tour Trek': 'Solukhumbu '\n",
    "}"
   ]
  },
  {
   "cell_type": "code",
   "execution_count": 99,
   "id": "5090d0b0-39b6-4645-a872-a732f38da31d",
   "metadata": {},
   "outputs": [
    {
     "name": "stderr",
     "output_type": "stream",
     "text": [
      "C:\\Users\\hp\\AppData\\Local\\Temp\\ipykernel_8776\\3802068315.py:1: SettingWithCopyWarning: \n",
      "A value is trying to be set on a copy of a slice from a DataFrame.\n",
      "Try using .loc[row_indexer,col_indexer] = value instead\n",
      "\n",
      "See the caveats in the documentation: https://pandas.pydata.org/pandas-docs/stable/user_guide/indexing.html#returning-a-view-versus-a-copy\n",
      "  df_cleaned.loc[:, 'District'] = df_cleaned['Trek_cleaned'].map(trek_to_district)\n"
     ]
    }
   ],
   "source": [
    "df_cleaned.loc[:, 'District'] = df_cleaned['Trek_cleaned'].map(trek_to_district)"
   ]
  },
  {
   "cell_type": "code",
   "execution_count": 100,
   "id": "f1ca5f37-15fb-4e73-a728-4b1f418eac1b",
   "metadata": {},
   "outputs": [
    {
     "data": {
      "text/plain": [
       "array(['Solukhumbu District', 'Kaski District', 'Manang District',\n",
       "       'Gorkha District', 'Mustang District', 'Rasuwa District',\n",
       "       'Sindhupalchok District', 'Mugu District', 'Taplejung District',\n",
       "       'Makalu District', 'Various', 'Solukhumbu ', 'Myagdi District'],\n",
       "      dtype=object)"
      ]
     },
     "execution_count": 100,
     "metadata": {},
     "output_type": "execute_result"
    }
   ],
   "source": [
    "df_cleaned['District'].unique()"
   ]
  },
  {
   "cell_type": "code",
   "execution_count": 101,
   "id": "efabbe1b-a7d3-45cd-b230-bd907f4dfd07",
   "metadata": {},
   "outputs": [
    {
     "data": {
      "text/plain": [
       "array(['Clear', nan, 'Snowy', 'Cloudy', 'Rainy'], dtype=object)"
      ]
     },
     "execution_count": 101,
     "metadata": {},
     "output_type": "execute_result"
    }
   ],
   "source": [
    "df_cleaned['Weather Conditions'].unique()"
   ]
  },
  {
   "cell_type": "code",
   "execution_count": 102,
   "id": "cfb0b38c-909a-47a6-bea5-b890ef12e826",
   "metadata": {},
   "outputs": [],
   "source": [
    "df_cleaned.loc[:, 'District'] = df_cleaned['District'].str.replace('District', '')\n",
    "df_cleaned.loc[:, 'District'] = df_cleaned['District'].str.replace('Various', 'Kathmandu')"
   ]
  },
  {
   "cell_type": "code",
   "execution_count": 103,
   "id": "36489f92-467a-4586-a11b-f01b688eab33",
   "metadata": {},
   "outputs": [
    {
     "data": {
      "text/plain": [
       "array(['Solukhumbu ', 'Kaski ', 'Manang ', 'Gorkha ', 'Mustang ',\n",
       "       'Rasuwa ', 'Sindhupalchok ', 'Mugu ', 'Taplejung ', 'Makalu ',\n",
       "       'Kathmandu', 'Myagdi '], dtype=object)"
      ]
     },
     "execution_count": 103,
     "metadata": {},
     "output_type": "execute_result"
    }
   ],
   "source": [
    "df_cleaned['District'].unique()"
   ]
  },
  {
   "cell_type": "code",
   "execution_count": 104,
   "id": "b3a6d4cf-bd30-4e5c-9bc9-6e9b6c055592",
   "metadata": {},
   "outputs": [
    {
     "name": "stdout",
     "output_type": "stream",
     "text": [
      "Empty DataFrame\n",
      "Columns: [Trek_cleaned]\n",
      "Index: []\n"
     ]
    }
   ],
   "source": [
    "# Check for NaN values in the district column\n",
    "print(df_cleaned[df_cleaned['District'].isna()][['Trek_cleaned']])"
   ]
  },
  {
   "cell_type": "code",
   "execution_count": 105,
   "id": "539eb635-2679-4663-a981-78b06c599944",
   "metadata": {},
   "outputs": [
    {
     "data": {
      "text/html": [
       "<div>\n",
       "<style scoped>\n",
       "    .dataframe tbody tr th:only-of-type {\n",
       "        vertical-align: middle;\n",
       "    }\n",
       "\n",
       "    .dataframe tbody tr th {\n",
       "        vertical-align: top;\n",
       "    }\n",
       "\n",
       "    .dataframe thead th {\n",
       "        text-align: right;\n",
       "    }\n",
       "</style>\n",
       "<table border=\"1\" class=\"dataframe\">\n",
       "  <thead>\n",
       "    <tr style=\"text-align: right;\">\n",
       "      <th></th>\n",
       "      <th>Trek_cleaned</th>\n",
       "      <th>Cost_cleaned</th>\n",
       "      <th>Time_cleaned</th>\n",
       "      <th>Trip_Grade_cleaned</th>\n",
       "      <th>Weather Conditions</th>\n",
       "      <th>Max_Altitude_cleaned</th>\n",
       "      <th>Accomodation/Hotel_type</th>\n",
       "      <th>Best_travel_time_1</th>\n",
       "      <th>Best_travel_time_2</th>\n",
       "      <th>travel_date</th>\n",
       "      <th>...</th>\n",
       "      <th>fitness_level_cleaned</th>\n",
       "      <th>trekkig_group_size</th>\n",
       "      <th>Guide_or_no_guide</th>\n",
       "      <th>Equipment_used</th>\n",
       "      <th>Purpose_of_travel</th>\n",
       "      <th>Health_incidents</th>\n",
       "      <th>Rating</th>\n",
       "      <th>Sex</th>\n",
       "      <th>Age</th>\n",
       "      <th>District</th>\n",
       "    </tr>\n",
       "  </thead>\n",
       "  <tbody>\n",
       "    <tr>\n",
       "      <th>0</th>\n",
       "      <td>Everest Base Camp Trek</td>\n",
       "      <td>1420</td>\n",
       "      <td>16</td>\n",
       "      <td>2</td>\n",
       "      <td>Clear</td>\n",
       "      <td>5545</td>\n",
       "      <td>Guesthouse</td>\n",
       "      <td>March - May</td>\n",
       "      <td>Sept - Dec</td>\n",
       "      <td>2022-09-13</td>\n",
       "      <td>...</td>\n",
       "      <td>2</td>\n",
       "      <td>10</td>\n",
       "      <td>Guide</td>\n",
       "      <td>Poles</td>\n",
       "      <td>Leisure</td>\n",
       "      <td>No</td>\n",
       "      <td>4.5</td>\n",
       "      <td>Non-Binary</td>\n",
       "      <td>31</td>\n",
       "      <td>Solukhumbu</td>\n",
       "    </tr>\n",
       "    <tr>\n",
       "      <th>1</th>\n",
       "      <td>Everest Base Camp Short Trek</td>\n",
       "      <td>1295</td>\n",
       "      <td>14</td>\n",
       "      <td>2</td>\n",
       "      <td>NaN</td>\n",
       "      <td>5545</td>\n",
       "      <td>Guesthouse</td>\n",
       "      <td>March - May</td>\n",
       "      <td>Sept - Dec</td>\n",
       "      <td>2021-09-04</td>\n",
       "      <td>...</td>\n",
       "      <td>1</td>\n",
       "      <td>8</td>\n",
       "      <td>No Guide</td>\n",
       "      <td>No</td>\n",
       "      <td>Adventure</td>\n",
       "      <td>No</td>\n",
       "      <td>4.0</td>\n",
       "      <td>Female</td>\n",
       "      <td>31</td>\n",
       "      <td>Solukhumbu</td>\n",
       "    </tr>\n",
       "    <tr>\n",
       "      <th>2</th>\n",
       "      <td>Everest Base Camp Heli Shuttle Trek</td>\n",
       "      <td>2000</td>\n",
       "      <td>12</td>\n",
       "      <td>2</td>\n",
       "      <td>Snowy</td>\n",
       "      <td>5545</td>\n",
       "      <td>Guesthouse</td>\n",
       "      <td>March - May</td>\n",
       "      <td>Sept - Dec</td>\n",
       "      <td>2021-01-25</td>\n",
       "      <td>...</td>\n",
       "      <td>3</td>\n",
       "      <td>12</td>\n",
       "      <td>Guide</td>\n",
       "      <td>Oxygen</td>\n",
       "      <td>Charity</td>\n",
       "      <td>No</td>\n",
       "      <td>5.0</td>\n",
       "      <td>Female</td>\n",
       "      <td>34</td>\n",
       "      <td>Solukhumbu</td>\n",
       "    </tr>\n",
       "    <tr>\n",
       "      <th>3</th>\n",
       "      <td>Everest Base Camp Heli Trek</td>\n",
       "      <td>3300</td>\n",
       "      <td>11</td>\n",
       "      <td>2</td>\n",
       "      <td>Clear</td>\n",
       "      <td>5545</td>\n",
       "      <td>Guesthouse</td>\n",
       "      <td>March - May</td>\n",
       "      <td>Sept - Dec</td>\n",
       "      <td>2022-01-28</td>\n",
       "      <td>...</td>\n",
       "      <td>2</td>\n",
       "      <td>5</td>\n",
       "      <td>Guide</td>\n",
       "      <td>Poles</td>\n",
       "      <td>Leisure</td>\n",
       "      <td>No</td>\n",
       "      <td>4.0</td>\n",
       "      <td>Non-Binary</td>\n",
       "      <td>28</td>\n",
       "      <td>Solukhumbu</td>\n",
       "    </tr>\n",
       "    <tr>\n",
       "      <th>4</th>\n",
       "      <td>Everest Base Camp Trek</td>\n",
       "      <td>1800</td>\n",
       "      <td>20</td>\n",
       "      <td>2</td>\n",
       "      <td>Cloudy</td>\n",
       "      <td>5545</td>\n",
       "      <td>Guesthouse</td>\n",
       "      <td>March - May</td>\n",
       "      <td>Sept - Dec</td>\n",
       "      <td>2021-10-21</td>\n",
       "      <td>...</td>\n",
       "      <td>1</td>\n",
       "      <td>6</td>\n",
       "      <td>No Guide</td>\n",
       "      <td>No</td>\n",
       "      <td>Adventure</td>\n",
       "      <td>Minor Injury</td>\n",
       "      <td>3.5</td>\n",
       "      <td>Non-Binary</td>\n",
       "      <td>28</td>\n",
       "      <td>Solukhumbu</td>\n",
       "    </tr>\n",
       "  </tbody>\n",
       "</table>\n",
       "<p>5 rows × 22 columns</p>\n",
       "</div>"
      ],
      "text/plain": [
       "                          Trek_cleaned  Cost_cleaned  Time_cleaned  \\\n",
       "0               Everest Base Camp Trek          1420            16   \n",
       "1         Everest Base Camp Short Trek          1295            14   \n",
       "2  Everest Base Camp Heli Shuttle Trek          2000            12   \n",
       "3          Everest Base Camp Heli Trek          3300            11   \n",
       "4               Everest Base Camp Trek          1800            20   \n",
       "\n",
       "   Trip_Grade_cleaned Weather Conditions  Max_Altitude_cleaned  \\\n",
       "0                   2              Clear                  5545   \n",
       "1                   2                NaN                  5545   \n",
       "2                   2              Snowy                  5545   \n",
       "3                   2              Clear                  5545   \n",
       "4                   2             Cloudy                  5545   \n",
       "\n",
       "  Accomodation/Hotel_type Best_travel_time_1 Best_travel_time_2 travel_date  \\\n",
       "0              Guesthouse       March - May          Sept - Dec  2022-09-13   \n",
       "1              Guesthouse       March - May          Sept - Dec  2021-09-04   \n",
       "2              Guesthouse       March - May          Sept - Dec  2021-01-25   \n",
       "3              Guesthouse       March - May          Sept - Dec  2022-01-28   \n",
       "4              Guesthouse       March - May          Sept - Dec  2021-10-21   \n",
       "\n",
       "   ... fitness_level_cleaned  trekkig_group_size  Guide_or_no_guide  \\\n",
       "0  ...                     2                  10              Guide   \n",
       "1  ...                     1                   8           No Guide   \n",
       "2  ...                     3                  12              Guide   \n",
       "3  ...                     2                   5              Guide   \n",
       "4  ...                     1                   6           No Guide   \n",
       "\n",
       "   Equipment_used Purpose_of_travel Health_incidents Rating         Sex  Age  \\\n",
       "0           Poles           Leisure               No    4.5  Non-Binary   31   \n",
       "1              No         Adventure               No    4.0      Female   31   \n",
       "2          Oxygen           Charity               No    5.0      Female   34   \n",
       "3           Poles           Leisure               No    4.0  Non-Binary   28   \n",
       "4              No         Adventure     Minor Injury    3.5  Non-Binary   28   \n",
       "\n",
       "      District  \n",
       "0  Solukhumbu   \n",
       "1  Solukhumbu   \n",
       "2  Solukhumbu   \n",
       "3  Solukhumbu   \n",
       "4  Solukhumbu   \n",
       "\n",
       "[5 rows x 22 columns]"
      ]
     },
     "execution_count": 105,
     "metadata": {},
     "output_type": "execute_result"
    }
   ],
   "source": [
    "df_cleaned.head()"
   ]
  },
  {
   "cell_type": "markdown",
   "id": "c0c08394-aabb-423b-8f19-c1614f1f2280",
   "metadata": {},
   "source": [
    "WEATHER"
   ]
  },
  {
   "cell_type": "code",
   "execution_count": 106,
   "id": "14d5262d-7f79-4d4a-88f8-6bd586fc1eb3",
   "metadata": {},
   "outputs": [
    {
     "data": {
      "text/html": [
       "<div>\n",
       "<style scoped>\n",
       "    .dataframe tbody tr th:only-of-type {\n",
       "        vertical-align: middle;\n",
       "    }\n",
       "\n",
       "    .dataframe tbody tr th {\n",
       "        vertical-align: top;\n",
       "    }\n",
       "\n",
       "    .dataframe thead th {\n",
       "        text-align: right;\n",
       "    }\n",
       "</style>\n",
       "<table border=\"1\" class=\"dataframe\">\n",
       "  <thead>\n",
       "    <tr style=\"text-align: right;\">\n",
       "      <th></th>\n",
       "      <th>Unnamed: 0</th>\n",
       "      <th>Date</th>\n",
       "      <th>DISTRICT</th>\n",
       "      <th>Weather Condition</th>\n",
       "    </tr>\n",
       "  </thead>\n",
       "  <tbody>\n",
       "    <tr>\n",
       "      <th>0</th>\n",
       "      <td>0</td>\n",
       "      <td>2020-01-01</td>\n",
       "      <td>Arghakhanchi</td>\n",
       "      <td>Clear</td>\n",
       "    </tr>\n",
       "    <tr>\n",
       "      <th>1</th>\n",
       "      <td>1</td>\n",
       "      <td>2020-01-02</td>\n",
       "      <td>Arghakhanchi</td>\n",
       "      <td>Clear</td>\n",
       "    </tr>\n",
       "    <tr>\n",
       "      <th>2</th>\n",
       "      <td>2</td>\n",
       "      <td>2020-01-03</td>\n",
       "      <td>Arghakhanchi</td>\n",
       "      <td>Clear</td>\n",
       "    </tr>\n",
       "    <tr>\n",
       "      <th>3</th>\n",
       "      <td>3</td>\n",
       "      <td>2020-01-04</td>\n",
       "      <td>Arghakhanchi</td>\n",
       "      <td>Clear</td>\n",
       "    </tr>\n",
       "    <tr>\n",
       "      <th>4</th>\n",
       "      <td>4</td>\n",
       "      <td>2020-01-05</td>\n",
       "      <td>Arghakhanchi</td>\n",
       "      <td>Clear</td>\n",
       "    </tr>\n",
       "  </tbody>\n",
       "</table>\n",
       "</div>"
      ],
      "text/plain": [
       "   Unnamed: 0        Date      DISTRICT Weather Condition\n",
       "0           0  2020-01-01  Arghakhanchi             Clear\n",
       "1           1  2020-01-02  Arghakhanchi             Clear\n",
       "2           2  2020-01-03  Arghakhanchi             Clear\n",
       "3           3  2020-01-04  Arghakhanchi             Clear\n",
       "4           4  2020-01-05  Arghakhanchi             Clear"
      ]
     },
     "execution_count": 106,
     "metadata": {},
     "output_type": "execute_result"
    }
   ],
   "source": [
    "weather= pd.read_csv('Weather_Dataset.csv')\n",
    "weather.head()"
   ]
  },
  {
   "cell_type": "code",
   "execution_count": 107,
   "id": "30469ad1-a29d-42da-813e-1418b0725a97",
   "metadata": {},
   "outputs": [
    {
     "name": "stderr",
     "output_type": "stream",
     "text": [
      "C:\\Users\\hp\\AppData\\Local\\Temp\\ipykernel_8776\\461922305.py:2: SettingWithCopyWarning: \n",
      "A value is trying to be set on a copy of a slice from a DataFrame.\n",
      "Try using .loc[row_indexer,col_indexer] = value instead\n",
      "\n",
      "See the caveats in the documentation: https://pandas.pydata.org/pandas-docs/stable/user_guide/indexing.html#returning-a-view-versus-a-copy\n",
      "  df_cleaned['travel_date'] = pd.to_datetime(df_cleaned['travel_date'], errors='coerce')  # Ensure df's date is correct\n",
      "C:\\Users\\hp\\AppData\\Local\\Temp\\ipykernel_8776\\461922305.py:6: SettingWithCopyWarning: \n",
      "A value is trying to be set on a copy of a slice from a DataFrame.\n",
      "Try using .loc[row_indexer,col_indexer] = value instead\n",
      "\n",
      "See the caveats in the documentation: https://pandas.pydata.org/pandas-docs/stable/user_guide/indexing.html#returning-a-view-versus-a-copy\n",
      "  df_cleaned['Month'] = df_cleaned['travel_date'].dt.month\n",
      "C:\\Users\\hp\\AppData\\Local\\Temp\\ipykernel_8776\\461922305.py:7: SettingWithCopyWarning: \n",
      "A value is trying to be set on a copy of a slice from a DataFrame.\n",
      "Try using .loc[row_indexer,col_indexer] = value instead\n",
      "\n",
      "See the caveats in the documentation: https://pandas.pydata.org/pandas-docs/stable/user_guide/indexing.html#returning-a-view-versus-a-copy\n",
      "  df_cleaned['Day'] = df_cleaned['travel_date'].dt.day\n"
     ]
    }
   ],
   "source": [
    "# Ensure both datasets have their date columns in datetime format\n",
    "df_cleaned['travel_date'] = pd.to_datetime(df_cleaned['travel_date'], errors='coerce')  # Ensure df's date is correct\n",
    "weather['Date'] = pd.to_datetime(weather['Date'], errors='coerce')  # Ensure weather's date is correct\n",
    "\n",
    "# Extract Month and Day from both datasets\n",
    "df_cleaned['Month'] = df_cleaned['travel_date'].dt.month\n",
    "df_cleaned['Day'] = df_cleaned['travel_date'].dt.day\n",
    "\n",
    "weather['Month'] = weather['Date'].dt.month\n",
    "weather['Day'] = weather['Date'].dt.day"
   ]
  },
  {
   "cell_type": "code",
   "execution_count": 108,
   "id": "5a9bc3f6-465e-47cb-8121-75b9c06bc180",
   "metadata": {},
   "outputs": [],
   "source": [
    "# Renaming the column\n",
    "weather.rename(columns={'Weather Condition': 'Weather Conditions'}, inplace=True)"
   ]
  },
  {
   "cell_type": "code",
   "execution_count": 109,
   "id": "ff1501e1-293c-4882-9b7d-fc8402e15478",
   "metadata": {},
   "outputs": [
    {
     "name": "stdout",
     "output_type": "stream",
     "text": [
      "Index(['Trek_cleaned', 'Cost_cleaned', 'Time_cleaned', 'Trip_Grade_cleaned',\n",
      "       'Weather Conditions', 'Max_Altitude_cleaned', 'Accomodation/Hotel_type',\n",
      "       'Best_travel_time_1', 'Best_travel_time_2', 'travel_date',\n",
      "       'Employment_type', 'year', 'fitness_level_cleaned',\n",
      "       'trekkig_group_size', 'Guide_or_no_guide', 'Equipment_used',\n",
      "       'Purpose_of_travel', 'Health_incidents', 'Rating', 'Sex', 'Age',\n",
      "       'District', 'Month', 'Day'],\n",
      "      dtype='object')\n",
      "Index(['Unnamed: 0', 'Date', 'DISTRICT', 'Weather Conditions', 'Month', 'Day'], dtype='object')\n"
     ]
    }
   ],
   "source": [
    "# Check and print column names in both datasets to confirm\n",
    "print(df_cleaned.columns)\n",
    "print(weather.columns)"
   ]
  },
  {
   "cell_type": "code",
   "execution_count": null,
   "id": "2476b8f2-0375-4179-b88c-839939b28ddf",
   "metadata": {},
   "outputs": [],
   "source": []
  },
  {
   "cell_type": "code",
   "execution_count": 110,
   "id": "3a962f86-a486-4195-a12f-4d18a7de764f",
   "metadata": {},
   "outputs": [
    {
     "name": "stderr",
     "output_type": "stream",
     "text": [
      "C:\\Users\\hp\\AppData\\Local\\Temp\\ipykernel_8776\\596963567.py:1: SettingWithCopyWarning: \n",
      "A value is trying to be set on a copy of a slice from a DataFrame.\n",
      "Try using .loc[row_indexer,col_indexer] = value instead\n",
      "\n",
      "See the caveats in the documentation: https://pandas.pydata.org/pandas-docs/stable/user_guide/indexing.html#returning-a-view-versus-a-copy\n",
      "  df_cleaned['DISTRICT'] = df_cleaned['District'].str.strip()\n"
     ]
    },
    {
     "data": {
      "text/plain": [
       "Index(['Trek_cleaned', 'Cost_cleaned', 'Time_cleaned', 'Trip_Grade_cleaned',\n",
       "       'Weather Conditions', 'Max_Altitude_cleaned', 'Accomodation/Hotel_type',\n",
       "       'Best_travel_time_1', 'Best_travel_time_2', 'travel_date',\n",
       "       'Employment_type', 'year', 'fitness_level_cleaned',\n",
       "       'trekkig_group_size', 'Guide_or_no_guide', 'Equipment_used',\n",
       "       'Purpose_of_travel', 'Health_incidents', 'Rating', 'Sex', 'Age',\n",
       "       'District', 'Month', 'Day', 'DISTRICT'],\n",
       "      dtype='object')"
      ]
     },
     "execution_count": 110,
     "metadata": {},
     "output_type": "execute_result"
    }
   ],
   "source": [
    "df_cleaned['DISTRICT'] = df_cleaned['District'].str.strip()\n",
    "weather['DISTRICT'] = weather['DISTRICT'].str.strip()\n",
    "df_cleaned.columns"
   ]
  },
  {
   "cell_type": "code",
   "execution_count": 111,
   "id": "3b106e82-7c9b-4c18-ab0e-6af4ddbb64ba",
   "metadata": {},
   "outputs": [
    {
     "name": "stderr",
     "output_type": "stream",
     "text": [
      "C:\\Users\\hp\\AppData\\Local\\Temp\\ipykernel_8776\\1553788976.py:1: SettingWithCopyWarning: \n",
      "A value is trying to be set on a copy of a slice from a DataFrame\n",
      "\n",
      "See the caveats in the documentation: https://pandas.pydata.org/pandas-docs/stable/user_guide/indexing.html#returning-a-view-versus-a-copy\n",
      "  df_cleaned.drop('District', axis=1, inplace=True)\n"
     ]
    }
   ],
   "source": [
    "df_cleaned.drop('District', axis=1, inplace=True)"
   ]
  },
  {
   "cell_type": "code",
   "execution_count": 112,
   "id": "645d948e-8169-42f0-bc9e-9b15bd61d8f2",
   "metadata": {},
   "outputs": [],
   "source": [
    "# Perform a left join to match rows based on 'DISTRICT', 'Month', and 'Day'\n",
    "merged_df = pd.merge(df_cleaned, weather[['DISTRICT', 'Month', 'Day', 'Weather Conditions']], \n",
    "                     on=['DISTRICT', 'Month', 'Day'], \n",
    "                     how='left', \n",
    "                     suffixes=('', '_weather'))"
   ]
  },
  {
   "cell_type": "code",
   "execution_count": 113,
   "id": "a53f58fc-9e50-421a-a576-969beb02cda9",
   "metadata": {},
   "outputs": [
    {
     "data": {
      "text/html": [
       "<div>\n",
       "<style scoped>\n",
       "    .dataframe tbody tr th:only-of-type {\n",
       "        vertical-align: middle;\n",
       "    }\n",
       "\n",
       "    .dataframe tbody tr th {\n",
       "        vertical-align: top;\n",
       "    }\n",
       "\n",
       "    .dataframe thead th {\n",
       "        text-align: right;\n",
       "    }\n",
       "</style>\n",
       "<table border=\"1\" class=\"dataframe\">\n",
       "  <thead>\n",
       "    <tr style=\"text-align: right;\">\n",
       "      <th></th>\n",
       "      <th>Trek_cleaned</th>\n",
       "      <th>Cost_cleaned</th>\n",
       "      <th>Time_cleaned</th>\n",
       "      <th>Trip_Grade_cleaned</th>\n",
       "      <th>Weather Conditions</th>\n",
       "      <th>Max_Altitude_cleaned</th>\n",
       "      <th>Accomodation/Hotel_type</th>\n",
       "      <th>Best_travel_time_1</th>\n",
       "      <th>Best_travel_time_2</th>\n",
       "      <th>travel_date</th>\n",
       "      <th>...</th>\n",
       "      <th>Equipment_used</th>\n",
       "      <th>Purpose_of_travel</th>\n",
       "      <th>Health_incidents</th>\n",
       "      <th>Rating</th>\n",
       "      <th>Sex</th>\n",
       "      <th>Age</th>\n",
       "      <th>Month</th>\n",
       "      <th>Day</th>\n",
       "      <th>DISTRICT</th>\n",
       "      <th>Weather Conditions_weather</th>\n",
       "    </tr>\n",
       "  </thead>\n",
       "  <tbody>\n",
       "    <tr>\n",
       "      <th>0</th>\n",
       "      <td>Everest Base Camp Trek</td>\n",
       "      <td>1420</td>\n",
       "      <td>16</td>\n",
       "      <td>2</td>\n",
       "      <td>Clear</td>\n",
       "      <td>5545</td>\n",
       "      <td>Guesthouse</td>\n",
       "      <td>March - May</td>\n",
       "      <td>Sept - Dec</td>\n",
       "      <td>2022-09-13</td>\n",
       "      <td>...</td>\n",
       "      <td>Poles</td>\n",
       "      <td>Leisure</td>\n",
       "      <td>No</td>\n",
       "      <td>4.5</td>\n",
       "      <td>Non-Binary</td>\n",
       "      <td>31</td>\n",
       "      <td>9</td>\n",
       "      <td>13</td>\n",
       "      <td>Solukhumbu</td>\n",
       "      <td>Cloudy</td>\n",
       "    </tr>\n",
       "    <tr>\n",
       "      <th>1</th>\n",
       "      <td>Everest Base Camp Short Trek</td>\n",
       "      <td>1295</td>\n",
       "      <td>14</td>\n",
       "      <td>2</td>\n",
       "      <td>NaN</td>\n",
       "      <td>5545</td>\n",
       "      <td>Guesthouse</td>\n",
       "      <td>March - May</td>\n",
       "      <td>Sept - Dec</td>\n",
       "      <td>2021-09-04</td>\n",
       "      <td>...</td>\n",
       "      <td>No</td>\n",
       "      <td>Adventure</td>\n",
       "      <td>No</td>\n",
       "      <td>4.0</td>\n",
       "      <td>Female</td>\n",
       "      <td>31</td>\n",
       "      <td>9</td>\n",
       "      <td>4</td>\n",
       "      <td>Solukhumbu</td>\n",
       "      <td>Cloudy</td>\n",
       "    </tr>\n",
       "    <tr>\n",
       "      <th>2</th>\n",
       "      <td>Everest Base Camp Heli Shuttle Trek</td>\n",
       "      <td>2000</td>\n",
       "      <td>12</td>\n",
       "      <td>2</td>\n",
       "      <td>Snowy</td>\n",
       "      <td>5545</td>\n",
       "      <td>Guesthouse</td>\n",
       "      <td>March - May</td>\n",
       "      <td>Sept - Dec</td>\n",
       "      <td>2021-01-25</td>\n",
       "      <td>...</td>\n",
       "      <td>Oxygen</td>\n",
       "      <td>Charity</td>\n",
       "      <td>No</td>\n",
       "      <td>5.0</td>\n",
       "      <td>Female</td>\n",
       "      <td>34</td>\n",
       "      <td>1</td>\n",
       "      <td>25</td>\n",
       "      <td>Solukhumbu</td>\n",
       "      <td>Cloudy</td>\n",
       "    </tr>\n",
       "    <tr>\n",
       "      <th>3</th>\n",
       "      <td>Everest Base Camp Heli Trek</td>\n",
       "      <td>3300</td>\n",
       "      <td>11</td>\n",
       "      <td>2</td>\n",
       "      <td>Clear</td>\n",
       "      <td>5545</td>\n",
       "      <td>Guesthouse</td>\n",
       "      <td>March - May</td>\n",
       "      <td>Sept - Dec</td>\n",
       "      <td>2022-01-28</td>\n",
       "      <td>...</td>\n",
       "      <td>Poles</td>\n",
       "      <td>Leisure</td>\n",
       "      <td>No</td>\n",
       "      <td>4.0</td>\n",
       "      <td>Non-Binary</td>\n",
       "      <td>28</td>\n",
       "      <td>1</td>\n",
       "      <td>28</td>\n",
       "      <td>Solukhumbu</td>\n",
       "      <td>Cloudy</td>\n",
       "    </tr>\n",
       "    <tr>\n",
       "      <th>4</th>\n",
       "      <td>Everest Base Camp Trek</td>\n",
       "      <td>1800</td>\n",
       "      <td>20</td>\n",
       "      <td>2</td>\n",
       "      <td>Cloudy</td>\n",
       "      <td>5545</td>\n",
       "      <td>Guesthouse</td>\n",
       "      <td>March - May</td>\n",
       "      <td>Sept - Dec</td>\n",
       "      <td>2021-10-21</td>\n",
       "      <td>...</td>\n",
       "      <td>No</td>\n",
       "      <td>Adventure</td>\n",
       "      <td>Minor Injury</td>\n",
       "      <td>3.5</td>\n",
       "      <td>Non-Binary</td>\n",
       "      <td>28</td>\n",
       "      <td>10</td>\n",
       "      <td>21</td>\n",
       "      <td>Solukhumbu</td>\n",
       "      <td>Cloudy</td>\n",
       "    </tr>\n",
       "  </tbody>\n",
       "</table>\n",
       "<p>5 rows × 25 columns</p>\n",
       "</div>"
      ],
      "text/plain": [
       "                          Trek_cleaned  Cost_cleaned  Time_cleaned  \\\n",
       "0               Everest Base Camp Trek          1420            16   \n",
       "1         Everest Base Camp Short Trek          1295            14   \n",
       "2  Everest Base Camp Heli Shuttle Trek          2000            12   \n",
       "3          Everest Base Camp Heli Trek          3300            11   \n",
       "4               Everest Base Camp Trek          1800            20   \n",
       "\n",
       "   Trip_Grade_cleaned Weather Conditions  Max_Altitude_cleaned  \\\n",
       "0                   2              Clear                  5545   \n",
       "1                   2                NaN                  5545   \n",
       "2                   2              Snowy                  5545   \n",
       "3                   2              Clear                  5545   \n",
       "4                   2             Cloudy                  5545   \n",
       "\n",
       "  Accomodation/Hotel_type Best_travel_time_1 Best_travel_time_2 travel_date  \\\n",
       "0              Guesthouse       March - May          Sept - Dec  2022-09-13   \n",
       "1              Guesthouse       March - May          Sept - Dec  2021-09-04   \n",
       "2              Guesthouse       March - May          Sept - Dec  2021-01-25   \n",
       "3              Guesthouse       March - May          Sept - Dec  2022-01-28   \n",
       "4              Guesthouse       March - May          Sept - Dec  2021-10-21   \n",
       "\n",
       "   ... Equipment_used  Purpose_of_travel  Health_incidents  Rating  \\\n",
       "0  ...          Poles            Leisure                No     4.5   \n",
       "1  ...             No          Adventure                No     4.0   \n",
       "2  ...         Oxygen            Charity                No     5.0   \n",
       "3  ...          Poles            Leisure                No     4.0   \n",
       "4  ...             No          Adventure      Minor Injury     3.5   \n",
       "\n",
       "          Sex Age Month Day    DISTRICT Weather Conditions_weather  \n",
       "0  Non-Binary  31     9  13  Solukhumbu                     Cloudy  \n",
       "1      Female  31     9   4  Solukhumbu                     Cloudy  \n",
       "2      Female  34     1  25  Solukhumbu                     Cloudy  \n",
       "3  Non-Binary  28     1  28  Solukhumbu                     Cloudy  \n",
       "4  Non-Binary  28    10  21  Solukhumbu                     Cloudy  \n",
       "\n",
       "[5 rows x 25 columns]"
      ]
     },
     "execution_count": 113,
     "metadata": {},
     "output_type": "execute_result"
    }
   ],
   "source": [
    "merged_df.head()"
   ]
  },
  {
   "cell_type": "code",
   "execution_count": 114,
   "id": "135be975-ea7d-4b1e-bd75-d91c6e468af2",
   "metadata": {},
   "outputs": [
    {
     "data": {
      "text/plain": [
       "Index(['Trek_cleaned', 'Cost_cleaned', 'Time_cleaned', 'Trip_Grade_cleaned',\n",
       "       'Weather Conditions', 'Max_Altitude_cleaned', 'Accomodation/Hotel_type',\n",
       "       'Best_travel_time_1', 'Best_travel_time_2', 'travel_date',\n",
       "       'Employment_type', 'year', 'fitness_level_cleaned',\n",
       "       'trekkig_group_size', 'Guide_or_no_guide', 'Equipment_used',\n",
       "       'Purpose_of_travel', 'Health_incidents', 'Rating', 'Sex', 'Age',\n",
       "       'Month', 'Day', 'DISTRICT', 'Weather Conditions_weather'],\n",
       "      dtype='object')"
      ]
     },
     "execution_count": 114,
     "metadata": {},
     "output_type": "execute_result"
    }
   ],
   "source": [
    "merged_df.columns"
   ]
  },
  {
   "cell_type": "code",
   "execution_count": 115,
   "id": "46f77c37-64a3-46ec-9b27-608ea7e55a02",
   "metadata": {},
   "outputs": [],
   "source": [
    "# Replace null values in 'Weather Conditions' with values from 'Weather Conditions_weather'\n",
    "merged_df['Weather_Conditions'] = merged_df['Weather Conditions'].fillna(merged_df['Weather Conditions_weather'])"
   ]
  },
  {
   "cell_type": "code",
   "execution_count": 116,
   "id": "f571cf03-29db-49d8-8131-8017326c413b",
   "metadata": {},
   "outputs": [
    {
     "name": "stdout",
     "output_type": "stream",
     "text": [
      "0\n"
     ]
    }
   ],
   "source": [
    "print(merged_df['Weather_Conditions'].isnull().sum())"
   ]
  },
  {
   "cell_type": "code",
   "execution_count": 117,
   "id": "dce2f823-7ed5-4819-a6c3-f286650deb0b",
   "metadata": {},
   "outputs": [],
   "source": [
    "merged_df.drop(columns=['Month', 'Day', 'Weather Conditions'], inplace= True)"
   ]
  },
  {
   "cell_type": "code",
   "execution_count": 118,
   "id": "99a45a3b-20de-4b7b-9ae2-cc6d1c92f70b",
   "metadata": {},
   "outputs": [],
   "source": [
    "final_df= merged_df[['Trek_cleaned', 'Cost_cleaned', 'Time_cleaned', 'Trip_Grade_cleaned', 'Weather_Conditions',\n",
    "                'Max_Altitude_cleaned','Accomodation/Hotel_type', 'Best_travel_time_1', 'Best_travel_time_2',\n",
    "                'travel_date', 'Employment_type', 'year', 'fitness_level_cleaned',\n",
    "                'trekkig_group_size', 'Guide_or_no_guide', 'Equipment_used',\n",
    "                'Purpose_of_travel', 'Health_incidents', 'Rating', 'Sex', 'Age']]"
   ]
  },
  {
   "cell_type": "code",
   "execution_count": 119,
   "id": "420a3f21",
   "metadata": {},
   "outputs": [
    {
     "data": {
      "text/plain": [
       "['Trek_cleaned',\n",
       " 'Cost_cleaned',\n",
       " 'Time_cleaned',\n",
       " 'Trip_Grade_cleaned',\n",
       " 'Weather_Conditions',\n",
       " 'Max_Altitude_cleaned',\n",
       " 'Accomodation/Hotel_type',\n",
       " 'Best_travel_time_1',\n",
       " 'Best_travel_time_2',\n",
       " 'travel_date',\n",
       " 'Employment_type',\n",
       " 'year',\n",
       " 'fitness_level_cleaned',\n",
       " 'trekkig_group_size',\n",
       " 'Guide_or_no_guide',\n",
       " 'Equipment_used',\n",
       " 'Purpose_of_travel',\n",
       " 'Health_incidents',\n",
       " 'Rating',\n",
       " 'Sex',\n",
       " 'Age']"
      ]
     },
     "execution_count": 119,
     "metadata": {},
     "output_type": "execute_result"
    }
   ],
   "source": [
    "list(final_df)"
   ]
  },
  {
   "cell_type": "code",
   "execution_count": 120,
   "id": "909cc909",
   "metadata": {},
   "outputs": [
    {
     "name": "stderr",
     "output_type": "stream",
     "text": [
      "C:\\Users\\hp\\AppData\\Local\\Temp\\ipykernel_8776\\200861161.py:1: SettingWithCopyWarning: \n",
      "A value is trying to be set on a copy of a slice from a DataFrame\n",
      "\n",
      "See the caveats in the documentation: https://pandas.pydata.org/pandas-docs/stable/user_guide/indexing.html#returning-a-view-versus-a-copy\n",
      "  final_df.rename(columns={'Trek_cleaned': 'Trek',\n"
     ]
    }
   ],
   "source": [
    "final_df.rename(columns={'Trek_cleaned': 'Trek',\n",
    "                         'Cost_cleaned': 'Cost',\n",
    "                         'Time_cleaned': 'Time',\n",
    "                         'Trip_Grade_cleaned': 'Trip_Grade',\n",
    "                         'Max_Altitude_cleaned': 'Max_Altitude',\n",
    "                         'fitness_level_cleaned': 'Fitness_Level',\n",
    "                         'trekkig_group_size': 'Trekking_GroupSize'\n",
    "                         }, inplace=True)"
   ]
  },
  {
   "cell_type": "code",
   "execution_count": 121,
   "id": "6b79449b",
   "metadata": {},
   "outputs": [
    {
     "data": {
      "text/plain": [
       "['Trek',\n",
       " 'Cost',\n",
       " 'Time',\n",
       " 'Trip_Grade',\n",
       " 'Weather_Conditions',\n",
       " 'Max_Altitude',\n",
       " 'Accomodation/Hotel_type',\n",
       " 'Best_travel_time_1',\n",
       " 'Best_travel_time_2',\n",
       " 'travel_date',\n",
       " 'year',\n",
       " 'Fitness_Level',\n",
       " 'Trekking_GroupSize',\n",
       " 'Guide_or_no_guide',\n",
       " 'Purpose_of_travel',\n",
       " 'Health_incidents',\n",
       " 'Rating',\n",
       " 'Sex',\n",
       " 'Age']"
      ]
     },
     "execution_count": 121,
     "metadata": {},
     "output_type": "execute_result"
    }
   ],
   "source": [
    "final_df = final_df.drop(['Employment_type', 'Equipment_used'], axis=1)\n",
    "list(final_df)"
   ]
  },
  {
   "cell_type": "code",
   "execution_count": 122,
   "id": "fd5db4f8-e4d3-4d1e-a0b7-891e6b3e0326",
   "metadata": {},
   "outputs": [],
   "source": [
    "final_df.to_csv('CleanedTrekDataset.csv')"
   ]
  },
  {
   "cell_type": "markdown",
   "id": "d75443c0-56d3-45af-8ba9-f5938134cc04",
   "metadata": {},
   "source": [
    "FEATURE SELECTION AND MODEL TRAINING"
   ]
  },
  {
   "cell_type": "code",
   "execution_count": 123,
   "id": "d09fe63e-7d96-460b-a871-b7b7ce78f88b",
   "metadata": {},
   "outputs": [],
   "source": [
    "correlation_columns= final_df[['Cost', 'Time', 'Trip_Grade', 'Max_Altitude', 'Trekking_GroupSize', 'Rating']]"
   ]
  },
  {
   "cell_type": "code",
   "execution_count": 124,
   "id": "0bfbd608-02ed-497a-a0e2-66176425a0ba",
   "metadata": {},
   "outputs": [
    {
     "data": {
      "text/html": [
       "<div>\n",
       "<style scoped>\n",
       "    .dataframe tbody tr th:only-of-type {\n",
       "        vertical-align: middle;\n",
       "    }\n",
       "\n",
       "    .dataframe tbody tr th {\n",
       "        vertical-align: top;\n",
       "    }\n",
       "\n",
       "    .dataframe thead th {\n",
       "        text-align: right;\n",
       "    }\n",
       "</style>\n",
       "<table border=\"1\" class=\"dataframe\">\n",
       "  <thead>\n",
       "    <tr style=\"text-align: right;\">\n",
       "      <th></th>\n",
       "      <th>Cost</th>\n",
       "      <th>Time</th>\n",
       "      <th>Trip_Grade</th>\n",
       "      <th>Max_Altitude</th>\n",
       "      <th>Trekking_GroupSize</th>\n",
       "      <th>Rating</th>\n",
       "    </tr>\n",
       "  </thead>\n",
       "  <tbody>\n",
       "    <tr>\n",
       "      <th>Cost</th>\n",
       "      <td>1.000000</td>\n",
       "      <td>0.284116</td>\n",
       "      <td>0.269225</td>\n",
       "      <td>0.253899</td>\n",
       "      <td>0.000668</td>\n",
       "      <td>0.009484</td>\n",
       "    </tr>\n",
       "    <tr>\n",
       "      <th>Time</th>\n",
       "      <td>0.284116</td>\n",
       "      <td>1.000000</td>\n",
       "      <td>0.370322</td>\n",
       "      <td>0.532992</td>\n",
       "      <td>0.011053</td>\n",
       "      <td>0.006830</td>\n",
       "    </tr>\n",
       "    <tr>\n",
       "      <th>Trip_Grade</th>\n",
       "      <td>0.269225</td>\n",
       "      <td>0.370322</td>\n",
       "      <td>1.000000</td>\n",
       "      <td>0.463427</td>\n",
       "      <td>0.027454</td>\n",
       "      <td>0.027510</td>\n",
       "    </tr>\n",
       "    <tr>\n",
       "      <th>Max_Altitude</th>\n",
       "      <td>0.253899</td>\n",
       "      <td>0.532992</td>\n",
       "      <td>0.463427</td>\n",
       "      <td>1.000000</td>\n",
       "      <td>-0.013833</td>\n",
       "      <td>0.009732</td>\n",
       "    </tr>\n",
       "    <tr>\n",
       "      <th>Trekking_GroupSize</th>\n",
       "      <td>0.000668</td>\n",
       "      <td>0.011053</td>\n",
       "      <td>0.027454</td>\n",
       "      <td>-0.013833</td>\n",
       "      <td>1.000000</td>\n",
       "      <td>0.674534</td>\n",
       "    </tr>\n",
       "    <tr>\n",
       "      <th>Rating</th>\n",
       "      <td>0.009484</td>\n",
       "      <td>0.006830</td>\n",
       "      <td>0.027510</td>\n",
       "      <td>0.009732</td>\n",
       "      <td>0.674534</td>\n",
       "      <td>1.000000</td>\n",
       "    </tr>\n",
       "  </tbody>\n",
       "</table>\n",
       "</div>"
      ],
      "text/plain": [
       "                        Cost      Time  Trip_Grade  Max_Altitude  \\\n",
       "Cost                1.000000  0.284116    0.269225      0.253899   \n",
       "Time                0.284116  1.000000    0.370322      0.532992   \n",
       "Trip_Grade          0.269225  0.370322    1.000000      0.463427   \n",
       "Max_Altitude        0.253899  0.532992    0.463427      1.000000   \n",
       "Trekking_GroupSize  0.000668  0.011053    0.027454     -0.013833   \n",
       "Rating              0.009484  0.006830    0.027510      0.009732   \n",
       "\n",
       "                    Trekking_GroupSize    Rating  \n",
       "Cost                          0.000668  0.009484  \n",
       "Time                          0.011053  0.006830  \n",
       "Trip_Grade                    0.027454  0.027510  \n",
       "Max_Altitude                 -0.013833  0.009732  \n",
       "Trekking_GroupSize            1.000000  0.674534  \n",
       "Rating                        0.674534  1.000000  "
      ]
     },
     "execution_count": 124,
     "metadata": {},
     "output_type": "execute_result"
    }
   ],
   "source": [
    "correlation_columns.corr()"
   ]
  }
 ],
 "metadata": {
  "kernelspec": {
   "display_name": ".venv",
   "language": "python",
   "name": "python3"
  },
  "language_info": {
   "codemirror_mode": {
    "name": "ipython",
    "version": 3
   },
   "file_extension": ".py",
   "mimetype": "text/x-python",
   "name": "python",
   "nbconvert_exporter": "python",
   "pygments_lexer": "ipython3",
   "version": "3.10.0"
  }
 },
 "nbformat": 4,
 "nbformat_minor": 5
}
